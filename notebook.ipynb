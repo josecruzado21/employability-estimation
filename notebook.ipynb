{
 "cells": [
  {
   "cell_type": "code",
   "execution_count": null,
   "metadata": {},
   "outputs": [],
   "source": [
    "import pandas as pd\n",
    "import matplotlib.pyplot as plt\n",
    "import numpy as np\n",
    "import seaborn as sns\n",
    "from sklearn import linear_model\n",
    "from sklearn.model_selection import cross_val_score, train_test_split\n",
    "%matplotlib inline"
   ]
  },
  {
   "cell_type": "code",
   "execution_count": null,
   "metadata": {},
   "outputs": [],
   "source": [
    "#Importing the dataset"
   ]
  },
  {
   "cell_type": "code",
   "execution_count": null,
   "metadata": {},
   "outputs": [],
   "source": [
    "df=pd.read_csv('./Data/train_set.csv')"
   ]
  },
  {
   "cell_type": "code",
   "execution_count": null,
   "metadata": {},
   "outputs": [],
   "source": [
    "df.columns"
   ]
  },
  {
   "cell_type": "code",
   "execution_count": null,
   "metadata": {},
   "outputs": [],
   "source": [
    "#database with 8995 datapoints"
   ]
  },
  {
   "cell_type": "code",
   "execution_count": null,
   "metadata": {},
   "outputs": [],
   "source": [
    "df.shape"
   ]
  },
  {
   "cell_type": "code",
   "execution_count": null,
   "metadata": {},
   "outputs": [],
   "source": [
    "#The variables that have on average 1300 null values.\n",
    "#The average age of the Digital House students is 34 years\n",
    "#The average performance in digital house is 3.5\n",
    "#The average minutes dedicated to the course is 4419\n",
    "#The average years of experience of digital house is 16.11\n",
    "#The average days to find a job is 90"
   ]
  },
  {
   "cell_type": "code",
   "execution_count": null,
   "metadata": {},
   "outputs": [],
   "source": [
    "df.describe()"
   ]
  },
  {
   "cell_type": "code",
   "execution_count": null,
   "metadata": {},
   "outputs": [],
   "source": [
    "df.isnull().sum()"
   ]
  },
  {
   "cell_type": "code",
   "execution_count": null,
   "metadata": {},
   "outputs": [],
   "source": [
    "#We will now find outliers and imbalances in the dataset"
   ]
  },
  {
   "cell_type": "code",
   "execution_count": null,
   "metadata": {},
   "outputs": [],
   "source": [
    "#Not many outliers in the DIAS_EMP target variable, but all of them in the upper side of the distribution.\n",
    "#The minimum days spent to find a job is 79"
   ]
  },
  {
   "cell_type": "code",
   "execution_count": null,
   "metadata": {},
   "outputs": [],
   "source": [
    "box_days=df['DIAS_EMP'].plot(kind='box')"
   ]
  },
  {
   "cell_type": "code",
   "execution_count": null,
   "metadata": {},
   "outputs": [],
   "source": [
    "fig=box_days.get_figure()\n",
    "fig.savefig('./graphs/box_days.png')"
   ]
  },
  {
   "cell_type": "code",
   "execution_count": null,
   "metadata": {},
   "outputs": [],
   "source": [
    "#In age, there are outliers in both the upper and lower sides of the distribution.\n",
    "#There is a person with 15 years, who took 84 days in finding a job. The days to find a job are not an outlier\n",
    "#so we are going to keep that data point for training."
   ]
  },
  {
   "cell_type": "code",
   "execution_count": null,
   "metadata": {},
   "outputs": [],
   "source": [
    "df[df.EDAD==15]"
   ]
  },
  {
   "cell_type": "code",
   "execution_count": null,
   "metadata": {},
   "outputs": [],
   "source": [
    "box_age=df['EDAD'].plot(kind='box')"
   ]
  },
  {
   "cell_type": "code",
   "execution_count": null,
   "metadata": {},
   "outputs": [],
   "source": [
    "fig=box_age.get_figure()\n",
    "fig.savefig('./graphs/box_age.png')"
   ]
  },
  {
   "cell_type": "code",
   "execution_count": null,
   "metadata": {},
   "outputs": [],
   "source": [
    "#In AVG_DH también hay outliers en ambos lados de la distribución"
   ]
  },
  {
   "cell_type": "code",
   "execution_count": null,
   "metadata": {},
   "outputs": [],
   "source": [
    "box_avg=df['AVG_DH'].plot(kind='box')"
   ]
  },
  {
   "cell_type": "code",
   "execution_count": null,
   "metadata": {},
   "outputs": [],
   "source": [
    "fig=box_avg.get_figure()\n",
    "fig.savefig('./graphs/box_avg.png')"
   ]
  },
  {
   "cell_type": "code",
   "execution_count": null,
   "metadata": {},
   "outputs": [],
   "source": [
    "#The minutes DH variables has a lot of variance, great concentration around the mean but huge variability in both tales"
   ]
  },
  {
   "cell_type": "code",
   "execution_count": null,
   "metadata": {},
   "outputs": [],
   "source": [
    "box_minutes=df['MINUTES_DH'].plot(kind='box')"
   ]
  },
  {
   "cell_type": "code",
   "execution_count": null,
   "metadata": {},
   "outputs": [],
   "source": [
    "fig=box_minutes.get_figure()\n",
    "fig.savefig('./graphs/box_minutes.png')"
   ]
  },
  {
   "cell_type": "code",
   "execution_count": null,
   "metadata": {},
   "outputs": [],
   "source": [
    "dist_minutes=df['MINUTES_DH'].plot(kind='density')"
   ]
  },
  {
   "cell_type": "code",
   "execution_count": null,
   "metadata": {},
   "outputs": [],
   "source": [
    "fig=dist_minutes.get_figure()\n",
    "fig.savefig('./graphs/dist_minutes.png')"
   ]
  },
  {
   "cell_type": "code",
   "execution_count": null,
   "metadata": {},
   "outputs": [],
   "source": [
    "#No hay outliers en Experiencia"
   ]
  },
  {
   "cell_type": "code",
   "execution_count": null,
   "metadata": {},
   "outputs": [],
   "source": [
    "box_exp=df['EXPERIENCIA'].plot(kind='box')"
   ]
  },
  {
   "cell_type": "code",
   "execution_count": null,
   "metadata": {},
   "outputs": [],
   "source": [
    "fig=box_exp.get_figure()\n",
    "fig.savefig('./graphs/box_exp.png')"
   ]
  },
  {
   "cell_type": "code",
   "execution_count": null,
   "metadata": {},
   "outputs": [],
   "source": [
    "#Genero"
   ]
  },
  {
   "cell_type": "code",
   "execution_count": null,
   "metadata": {},
   "outputs": [],
   "source": [
    "bar_gender=df['GENERO'].value_counts().plot(kind='bar')\n",
    "plt.xticks(rotation=360)\n",
    "fig=bar_gender.get_figure()\n",
    "fig.savefig('./graphs/bar_gender.png')"
   ]
  },
  {
   "cell_type": "code",
   "execution_count": null,
   "metadata": {},
   "outputs": [],
   "source": [
    "#Residencia"
   ]
  },
  {
   "cell_type": "code",
   "execution_count": null,
   "metadata": {},
   "outputs": [],
   "source": [
    "bar_residence=df['RESIDENCIA'].value_counts().plot(kind='bar')\n",
    "plt.xticks(rotation=360)\n",
    "fig=bar_residence.get_figure()\n",
    "fig.savefig('./graphs/bar_residence.png')"
   ]
  },
  {
   "cell_type": "code",
   "execution_count": null,
   "metadata": {},
   "outputs": [],
   "source": [
    "#NV ESTUDIO"
   ]
  },
  {
   "cell_type": "code",
   "execution_count": null,
   "metadata": {},
   "outputs": [],
   "source": [
    "bar_studies=df['NV_ESTUDIO'].value_counts().plot(kind='bar')\n",
    "plt.xticks(rotation=360)\n",
    "fig=bar_studies.get_figure()\n",
    "fig.savefig('./graphs/bar_studies.png')"
   ]
  },
  {
   "cell_type": "code",
   "execution_count": null,
   "metadata": {},
   "outputs": [],
   "source": [
    "#Estudio Prev"
   ]
  },
  {
   "cell_type": "code",
   "execution_count": null,
   "metadata": {},
   "outputs": [],
   "source": [
    "bar_prev=df['ESTUDIO_PREV'].value_counts().plot(kind='bar')\n",
    "plt.xticks(rotation=10)\n",
    "fig=bar_prev.get_figure()\n",
    "fig.savefig('./graphs/bar_prev.png')"
   ]
  },
  {
   "cell_type": "code",
   "execution_count": null,
   "metadata": {},
   "outputs": [],
   "source": [
    "#Course"
   ]
  },
  {
   "cell_type": "code",
   "execution_count": null,
   "metadata": {},
   "outputs": [],
   "source": [
    "bar_course=df['TRACK_DH'].value_counts().plot(kind='bar')\n",
    "plt.xticks(rotation=360)\n",
    "fig=bar_course.get_figure()\n",
    "fig.savefig('./graphs/bar_course.png')"
   ]
  },
  {
   "cell_type": "code",
   "execution_count": null,
   "metadata": {},
   "outputs": [],
   "source": [
    "# Double check for outliers, counting them with the IQR"
   ]
  },
  {
   "cell_type": "code",
   "execution_count": null,
   "metadata": {},
   "outputs": [],
   "source": [
    "q1=df.quantile(0.25)\n",
    "q3=df.quantile(0.75)\n",
    "iqr=q3-q1\n",
    "#df[df<(q1-1.5*iqr)|df>(q3+1.5*iqr)]"
   ]
  },
  {
   "cell_type": "code",
   "execution_count": null,
   "metadata": {},
   "outputs": [],
   "source": [
    "((df<(q1-1.5*iqr))|(df>(q3+1.5*iqr))).sum()"
   ]
  },
  {
   "cell_type": "code",
   "execution_count": null,
   "metadata": {},
   "outputs": [],
   "source": [
    "(df<(q1-1.5*iqr)).sum()"
   ]
  },
  {
   "cell_type": "code",
   "execution_count": null,
   "metadata": {},
   "outputs": [],
   "source": [
    "(df>(q3+1.5*iqr)).sum()"
   ]
  },
  {
   "cell_type": "code",
   "execution_count": null,
   "metadata": {},
   "outputs": [],
   "source": [
    "#Correlations\n",
    "#AVG_DH and MINUTES_DH are the ones that exhibit less correlation with DIAS_EMP"
   ]
  },
  {
   "cell_type": "code",
   "execution_count": null,
   "metadata": {},
   "outputs": [],
   "source": [
    "correlations=df[['EDAD', 'GENERO', 'RESIDENCIA', 'NV_ESTUDIO',\n",
    "       'ESTUDIO_PREV', 'TRACK_DH', 'AVG_DH', 'MINUTES_DH', 'EXPERIENCIA',\n",
    "       'DIAS_EMP']].corr()"
   ]
  },
  {
   "cell_type": "code",
   "execution_count": null,
   "metadata": {},
   "outputs": [],
   "source": [
    "correlations"
   ]
  },
  {
   "cell_type": "code",
   "execution_count": null,
   "metadata": {},
   "outputs": [],
   "source": [
    "correlations_heatmap=sns.heatmap(correlations)\n",
    "fig=correlations_heatmap.get_figure()\n",
    "plt.tight_layout()\n",
    "fig.savefig('./graphs/correlations_hmap.png')"
   ]
  },
  {
   "cell_type": "code",
   "execution_count": null,
   "metadata": {},
   "outputs": [],
   "source": [
    "pairplot=sns.pairplot(df[['EDAD', 'GENERO', 'RESIDENCIA', 'NV_ESTUDIO',\n",
    "       'ESTUDIO_PREV', 'TRACK_DH', 'AVG_DH', 'MINUTES_DH', 'EXPERIENCIA',\n",
    "       'DIAS_EMP']])\n",
    "#fig=pairplot.get_figure()\n",
    "plt.tight_layout()\n",
    "pairplot.savefig('./graphs/pairplot.png')"
   ]
  },
  {
   "cell_type": "code",
   "execution_count": null,
   "metadata": {},
   "outputs": [],
   "source": [
    "men_women=sns.catplot(x='GENERO',y='DIAS_EMP',kind='box',data=df)\n",
    "plt.tight_layout()\n",
    "men_women.savefig('./graphs/men_women.png')"
   ]
  },
  {
   "cell_type": "code",
   "execution_count": null,
   "metadata": {},
   "outputs": [],
   "source": [
    "sns.catplot(x='RESIDENCIA',y='DIAS_EMP',kind='box',data=df)"
   ]
  },
  {
   "cell_type": "code",
   "execution_count": null,
   "metadata": {},
   "outputs": [],
   "source": [
    "sns.catplot(x='NV_ESTUDIO',y='DIAS_EMP',kind='box',data=df)"
   ]
  },
  {
   "cell_type": "code",
   "execution_count": null,
   "metadata": {},
   "outputs": [],
   "source": [
    "sns.catplot(x='ESTUDIO_PREV',y='DIAS_EMP',kind='box',data=df)"
   ]
  },
  {
   "cell_type": "code",
   "execution_count": null,
   "metadata": {},
   "outputs": [],
   "source": [
    "sns.catplot(x='TRACK_DH',y='DIAS_EMP',kind='box',data=df)"
   ]
  },
  {
   "cell_type": "markdown",
   "metadata": {},
   "source": [
    "## Baseline Accuracy"
   ]
  },
  {
   "cell_type": "code",
   "execution_count": 72,
   "metadata": {},
   "outputs": [],
   "source": [
    "features=list(df.columns)\n",
    "features.remove('DIAS_EMP')\n",
    "target=['DIAS_EMP']\n",
    "X=df[features]\n",
    "y=df[target]"
   ]
  },
  {
   "cell_type": "code",
   "execution_count": 73,
   "metadata": {},
   "outputs": [],
   "source": [
    "df_pipeline = Pipeline(\n",
    "    steps=[\n",
    "        ('remove_columns', drop_cols),\n",
    "        ('encode', encode),\n",
    "        ('impute', impute)\n",
    "    ]\n",
    ")"
   ]
  },
  {
   "cell_type": "code",
   "execution_count": 74,
   "metadata": {},
   "outputs": [],
   "source": [
    "X=df_pipeline.fit_transform(X)"
   ]
  },
  {
   "cell_type": "code",
   "execution_count": 75,
   "metadata": {},
   "outputs": [
    {
     "data": {
      "text/html": [
       "<div>\n",
       "<style scoped>\n",
       "    .dataframe tbody tr th:only-of-type {\n",
       "        vertical-align: middle;\n",
       "    }\n",
       "\n",
       "    .dataframe tbody tr th {\n",
       "        vertical-align: top;\n",
       "    }\n",
       "\n",
       "    .dataframe thead th {\n",
       "        text-align: right;\n",
       "    }\n",
       "</style>\n",
       "<table border=\"1\" class=\"dataframe\">\n",
       "  <thead>\n",
       "    <tr style=\"text-align: right;\">\n",
       "      <th></th>\n",
       "      <th>EDAD</th>\n",
       "      <th>AVG_DH</th>\n",
       "      <th>MINUTES_DH</th>\n",
       "      <th>EXPERIENCIA</th>\n",
       "      <th>GENERO_FEMENINO</th>\n",
       "      <th>GENERO_MASCULINO</th>\n",
       "      <th>RESIDENCIA_ARGENTINA</th>\n",
       "      <th>RESIDENCIA_BRAZIL</th>\n",
       "      <th>RESIDENCIA_MEXICO</th>\n",
       "      <th>NV_ESTUDIO_POST_GRADUATE</th>\n",
       "      <th>...</th>\n",
       "      <th>NV_ESTUDIO_UNIVERSITARY</th>\n",
       "      <th>ESTUDIO_PREV_BUSINESS</th>\n",
       "      <th>ESTUDIO_PREV_COMMERCIAL</th>\n",
       "      <th>ESTUDIO_PREV_DEVELOPMENT</th>\n",
       "      <th>ESTUDIO_PREV_ENGINEERING</th>\n",
       "      <th>ESTUDIO_PREV_MARKETING</th>\n",
       "      <th>TRACK_DH_DATA</th>\n",
       "      <th>TRACK_DH_EJECUTIVO</th>\n",
       "      <th>TRACK_DH_MARKETING</th>\n",
       "      <th>TRACK_DH_PROGRAMACION</th>\n",
       "    </tr>\n",
       "  </thead>\n",
       "  <tbody>\n",
       "    <tr>\n",
       "      <th>0</th>\n",
       "      <td>37.0</td>\n",
       "      <td>3.100000</td>\n",
       "      <td>4131.5</td>\n",
       "      <td>21.300000</td>\n",
       "      <td>1</td>\n",
       "      <td>0</td>\n",
       "      <td>0</td>\n",
       "      <td>1</td>\n",
       "      <td>0</td>\n",
       "      <td>0</td>\n",
       "      <td>...</td>\n",
       "      <td>1</td>\n",
       "      <td>0</td>\n",
       "      <td>0</td>\n",
       "      <td>0</td>\n",
       "      <td>0</td>\n",
       "      <td>0</td>\n",
       "      <td>0</td>\n",
       "      <td>0</td>\n",
       "      <td>0</td>\n",
       "      <td>1</td>\n",
       "    </tr>\n",
       "    <tr>\n",
       "      <th>1</th>\n",
       "      <td>40.0</td>\n",
       "      <td>3.100000</td>\n",
       "      <td>4160.4</td>\n",
       "      <td>25.200000</td>\n",
       "      <td>1</td>\n",
       "      <td>0</td>\n",
       "      <td>0</td>\n",
       "      <td>0</td>\n",
       "      <td>0</td>\n",
       "      <td>0</td>\n",
       "      <td>...</td>\n",
       "      <td>1</td>\n",
       "      <td>0</td>\n",
       "      <td>1</td>\n",
       "      <td>0</td>\n",
       "      <td>0</td>\n",
       "      <td>0</td>\n",
       "      <td>0</td>\n",
       "      <td>0</td>\n",
       "      <td>0</td>\n",
       "      <td>1</td>\n",
       "    </tr>\n",
       "    <tr>\n",
       "      <th>2</th>\n",
       "      <td>35.0</td>\n",
       "      <td>3.100000</td>\n",
       "      <td>4087.6</td>\n",
       "      <td>18.000000</td>\n",
       "      <td>0</td>\n",
       "      <td>0</td>\n",
       "      <td>1</td>\n",
       "      <td>0</td>\n",
       "      <td>0</td>\n",
       "      <td>0</td>\n",
       "      <td>...</td>\n",
       "      <td>1</td>\n",
       "      <td>0</td>\n",
       "      <td>0</td>\n",
       "      <td>1</td>\n",
       "      <td>0</td>\n",
       "      <td>0</td>\n",
       "      <td>1</td>\n",
       "      <td>0</td>\n",
       "      <td>0</td>\n",
       "      <td>0</td>\n",
       "    </tr>\n",
       "    <tr>\n",
       "      <th>3</th>\n",
       "      <td>33.0</td>\n",
       "      <td>3.100000</td>\n",
       "      <td>4043.2</td>\n",
       "      <td>13.600000</td>\n",
       "      <td>1</td>\n",
       "      <td>0</td>\n",
       "      <td>0</td>\n",
       "      <td>1</td>\n",
       "      <td>0</td>\n",
       "      <td>0</td>\n",
       "      <td>...</td>\n",
       "      <td>1</td>\n",
       "      <td>0</td>\n",
       "      <td>0</td>\n",
       "      <td>0</td>\n",
       "      <td>1</td>\n",
       "      <td>0</td>\n",
       "      <td>0</td>\n",
       "      <td>0</td>\n",
       "      <td>0</td>\n",
       "      <td>0</td>\n",
       "    </tr>\n",
       "    <tr>\n",
       "      <th>4</th>\n",
       "      <td>29.0</td>\n",
       "      <td>3.600000</td>\n",
       "      <td>4688.0</td>\n",
       "      <td>9.137713</td>\n",
       "      <td>0</td>\n",
       "      <td>0</td>\n",
       "      <td>0</td>\n",
       "      <td>1</td>\n",
       "      <td>0</td>\n",
       "      <td>0</td>\n",
       "      <td>...</td>\n",
       "      <td>1</td>\n",
       "      <td>0</td>\n",
       "      <td>0</td>\n",
       "      <td>1</td>\n",
       "      <td>0</td>\n",
       "      <td>0</td>\n",
       "      <td>0</td>\n",
       "      <td>0</td>\n",
       "      <td>0</td>\n",
       "      <td>0</td>\n",
       "    </tr>\n",
       "    <tr>\n",
       "      <th>...</th>\n",
       "      <td>...</td>\n",
       "      <td>...</td>\n",
       "      <td>...</td>\n",
       "      <td>...</td>\n",
       "      <td>...</td>\n",
       "      <td>...</td>\n",
       "      <td>...</td>\n",
       "      <td>...</td>\n",
       "      <td>...</td>\n",
       "      <td>...</td>\n",
       "      <td>...</td>\n",
       "      <td>...</td>\n",
       "      <td>...</td>\n",
       "      <td>...</td>\n",
       "      <td>...</td>\n",
       "      <td>...</td>\n",
       "      <td>...</td>\n",
       "      <td>...</td>\n",
       "      <td>...</td>\n",
       "      <td>...</td>\n",
       "      <td>...</td>\n",
       "    </tr>\n",
       "    <tr>\n",
       "      <th>8990</th>\n",
       "      <td>29.0</td>\n",
       "      <td>4.000000</td>\n",
       "      <td>4701.6</td>\n",
       "      <td>9.100000</td>\n",
       "      <td>0</td>\n",
       "      <td>1</td>\n",
       "      <td>1</td>\n",
       "      <td>0</td>\n",
       "      <td>0</td>\n",
       "      <td>0</td>\n",
       "      <td>...</td>\n",
       "      <td>0</td>\n",
       "      <td>0</td>\n",
       "      <td>0</td>\n",
       "      <td>1</td>\n",
       "      <td>0</td>\n",
       "      <td>0</td>\n",
       "      <td>0</td>\n",
       "      <td>0</td>\n",
       "      <td>0</td>\n",
       "      <td>0</td>\n",
       "    </tr>\n",
       "    <tr>\n",
       "      <th>8991</th>\n",
       "      <td>34.0</td>\n",
       "      <td>3.400000</td>\n",
       "      <td>4646.2</td>\n",
       "      <td>16.800000</td>\n",
       "      <td>0</td>\n",
       "      <td>0</td>\n",
       "      <td>1</td>\n",
       "      <td>0</td>\n",
       "      <td>0</td>\n",
       "      <td>0</td>\n",
       "      <td>...</td>\n",
       "      <td>1</td>\n",
       "      <td>0</td>\n",
       "      <td>0</td>\n",
       "      <td>0</td>\n",
       "      <td>1</td>\n",
       "      <td>0</td>\n",
       "      <td>0</td>\n",
       "      <td>0</td>\n",
       "      <td>0</td>\n",
       "      <td>1</td>\n",
       "    </tr>\n",
       "    <tr>\n",
       "      <th>8992</th>\n",
       "      <td>28.0</td>\n",
       "      <td>2.722034</td>\n",
       "      <td>3315.1</td>\n",
       "      <td>5.600000</td>\n",
       "      <td>1</td>\n",
       "      <td>0</td>\n",
       "      <td>1</td>\n",
       "      <td>0</td>\n",
       "      <td>0</td>\n",
       "      <td>1</td>\n",
       "      <td>...</td>\n",
       "      <td>0</td>\n",
       "      <td>0</td>\n",
       "      <td>0</td>\n",
       "      <td>0</td>\n",
       "      <td>1</td>\n",
       "      <td>0</td>\n",
       "      <td>0</td>\n",
       "      <td>1</td>\n",
       "      <td>0</td>\n",
       "      <td>0</td>\n",
       "    </tr>\n",
       "    <tr>\n",
       "      <th>8993</th>\n",
       "      <td>23.0</td>\n",
       "      <td>3.300000</td>\n",
       "      <td>4437.8</td>\n",
       "      <td>0.900000</td>\n",
       "      <td>0</td>\n",
       "      <td>1</td>\n",
       "      <td>0</td>\n",
       "      <td>0</td>\n",
       "      <td>1</td>\n",
       "      <td>0</td>\n",
       "      <td>...</td>\n",
       "      <td>0</td>\n",
       "      <td>0</td>\n",
       "      <td>0</td>\n",
       "      <td>0</td>\n",
       "      <td>1</td>\n",
       "      <td>0</td>\n",
       "      <td>0</td>\n",
       "      <td>0</td>\n",
       "      <td>0</td>\n",
       "      <td>1</td>\n",
       "    </tr>\n",
       "    <tr>\n",
       "      <th>8994</th>\n",
       "      <td>36.0</td>\n",
       "      <td>3.400000</td>\n",
       "      <td>4600.8</td>\n",
       "      <td>19.600000</td>\n",
       "      <td>0</td>\n",
       "      <td>1</td>\n",
       "      <td>1</td>\n",
       "      <td>0</td>\n",
       "      <td>0</td>\n",
       "      <td>0</td>\n",
       "      <td>...</td>\n",
       "      <td>1</td>\n",
       "      <td>0</td>\n",
       "      <td>1</td>\n",
       "      <td>0</td>\n",
       "      <td>0</td>\n",
       "      <td>0</td>\n",
       "      <td>1</td>\n",
       "      <td>0</td>\n",
       "      <td>0</td>\n",
       "      <td>0</td>\n",
       "    </tr>\n",
       "  </tbody>\n",
       "</table>\n",
       "<p>8995 rows × 21 columns</p>\n",
       "</div>"
      ],
      "text/plain": [
       "      EDAD    AVG_DH  MINUTES_DH  EXPERIENCIA  GENERO_FEMENINO  \\\n",
       "0     37.0  3.100000      4131.5    21.300000                1   \n",
       "1     40.0  3.100000      4160.4    25.200000                1   \n",
       "2     35.0  3.100000      4087.6    18.000000                0   \n",
       "3     33.0  3.100000      4043.2    13.600000                1   \n",
       "4     29.0  3.600000      4688.0     9.137713                0   \n",
       "...    ...       ...         ...          ...              ...   \n",
       "8990  29.0  4.000000      4701.6     9.100000                0   \n",
       "8991  34.0  3.400000      4646.2    16.800000                0   \n",
       "8992  28.0  2.722034      3315.1     5.600000                1   \n",
       "8993  23.0  3.300000      4437.8     0.900000                0   \n",
       "8994  36.0  3.400000      4600.8    19.600000                0   \n",
       "\n",
       "      GENERO_MASCULINO  RESIDENCIA_ARGENTINA  RESIDENCIA_BRAZIL  \\\n",
       "0                    0                     0                  1   \n",
       "1                    0                     0                  0   \n",
       "2                    0                     1                  0   \n",
       "3                    0                     0                  1   \n",
       "4                    0                     0                  1   \n",
       "...                ...                   ...                ...   \n",
       "8990                 1                     1                  0   \n",
       "8991                 0                     1                  0   \n",
       "8992                 0                     1                  0   \n",
       "8993                 1                     0                  0   \n",
       "8994                 1                     1                  0   \n",
       "\n",
       "      RESIDENCIA_MEXICO  NV_ESTUDIO_POST_GRADUATE  ...  \\\n",
       "0                     0                         0  ...   \n",
       "1                     0                         0  ...   \n",
       "2                     0                         0  ...   \n",
       "3                     0                         0  ...   \n",
       "4                     0                         0  ...   \n",
       "...                 ...                       ...  ...   \n",
       "8990                  0                         0  ...   \n",
       "8991                  0                         0  ...   \n",
       "8992                  0                         1  ...   \n",
       "8993                  1                         0  ...   \n",
       "8994                  0                         0  ...   \n",
       "\n",
       "      NV_ESTUDIO_UNIVERSITARY  ESTUDIO_PREV_BUSINESS  ESTUDIO_PREV_COMMERCIAL  \\\n",
       "0                           1                      0                        0   \n",
       "1                           1                      0                        1   \n",
       "2                           1                      0                        0   \n",
       "3                           1                      0                        0   \n",
       "4                           1                      0                        0   \n",
       "...                       ...                    ...                      ...   \n",
       "8990                        0                      0                        0   \n",
       "8991                        1                      0                        0   \n",
       "8992                        0                      0                        0   \n",
       "8993                        0                      0                        0   \n",
       "8994                        1                      0                        1   \n",
       "\n",
       "      ESTUDIO_PREV_DEVELOPMENT  ESTUDIO_PREV_ENGINEERING  \\\n",
       "0                            0                         0   \n",
       "1                            0                         0   \n",
       "2                            1                         0   \n",
       "3                            0                         1   \n",
       "4                            1                         0   \n",
       "...                        ...                       ...   \n",
       "8990                         1                         0   \n",
       "8991                         0                         1   \n",
       "8992                         0                         1   \n",
       "8993                         0                         1   \n",
       "8994                         0                         0   \n",
       "\n",
       "      ESTUDIO_PREV_MARKETING  TRACK_DH_DATA  TRACK_DH_EJECUTIVO  \\\n",
       "0                          0              0                   0   \n",
       "1                          0              0                   0   \n",
       "2                          0              1                   0   \n",
       "3                          0              0                   0   \n",
       "4                          0              0                   0   \n",
       "...                      ...            ...                 ...   \n",
       "8990                       0              0                   0   \n",
       "8991                       0              0                   0   \n",
       "8992                       0              0                   1   \n",
       "8993                       0              0                   0   \n",
       "8994                       0              1                   0   \n",
       "\n",
       "      TRACK_DH_MARKETING  TRACK_DH_PROGRAMACION  \n",
       "0                      0                      1  \n",
       "1                      0                      1  \n",
       "2                      0                      0  \n",
       "3                      0                      0  \n",
       "4                      0                      0  \n",
       "...                  ...                    ...  \n",
       "8990                   0                      0  \n",
       "8991                   0                      1  \n",
       "8992                   0                      0  \n",
       "8993                   0                      1  \n",
       "8994                   0                      0  \n",
       "\n",
       "[8995 rows x 21 columns]"
      ]
     },
     "execution_count": 75,
     "metadata": {},
     "output_type": "execute_result"
    }
   ],
   "source": [
    "X"
   ]
  },
  {
   "cell_type": "code",
   "execution_count": 76,
   "metadata": {},
   "outputs": [
    {
     "name": "stdout",
     "output_type": "stream",
     "text": [
      "[0.8018768630486648]\n"
     ]
    }
   ],
   "source": [
    "linreg = LinearRegression()\n",
    "cv=cross_validate(linreg,X,y,cv=15,scoring='r2')\n",
    "print([cv['test_score'].mean()])"
   ]
  },
  {
   "cell_type": "markdown",
   "metadata": {},
   "source": [
    "## XGBoost"
   ]
  },
  {
   "cell_type": "code",
   "execution_count": 77,
   "metadata": {},
   "outputs": [],
   "source": [
    "import pandas as pd\n",
    "import matplotlib.pyplot as plt\n",
    "import numpy as np\n",
    "import seaborn as sns\n",
    "from sklearn import linear_model\n",
    "from sklearn.model_selection import cross_val_score, train_test_split\n",
    "from sklearn.pipeline import Pipeline\n",
    "import xgboost as xgb\n",
    "from sklearn.model_selection import KFold, cross_validate\n",
    "from sklearn.linear_model import LinearRegression\n",
    "from transformations_pipeline import DropColumns\n",
    "from transformations_pipeline import Imputer\n",
    "from transformations_pipeline import Encoder\n",
    "from transformations_pipeline import Scaler\n",
    "from sklearn.model_selection import GridSearchCV\n",
    "%matplotlib inline\n",
    "df=pd.read_csv('./Data/train_set.csv')"
   ]
  },
  {
   "cell_type": "code",
   "execution_count": 59,
   "metadata": {},
   "outputs": [],
   "source": [
    "features=list(df.columns)\n",
    "features.remove('DIAS_EMP')\n",
    "target=['DIAS_EMP']\n",
    "X=df[features]\n",
    "y=df[target]"
   ]
  },
  {
   "cell_type": "code",
   "execution_count": 60,
   "metadata": {},
   "outputs": [],
   "source": [
    "drop_cols=DropColumns(['Unnamed: 0'])"
   ]
  },
  {
   "cell_type": "code",
   "execution_count": 61,
   "metadata": {},
   "outputs": [],
   "source": [
    "encode=Encoder(['GENERO','RESIDENCIA','NV_ESTUDIO','ESTUDIO_PREV','TRACK_DH'])"
   ]
  },
  {
   "cell_type": "code",
   "execution_count": 62,
   "metadata": {},
   "outputs": [],
   "source": [
    "impute=Imputer(['EDAD','AVG_DH','MINUTES_DH','EXPERIENCIA'])"
   ]
  },
  {
   "cell_type": "code",
   "execution_count": 63,
   "metadata": {},
   "outputs": [],
   "source": [
    "scale=Scaler(['EDAD','AVG_DH','MINUTES_DH','EXPERIENCIA'])"
   ]
  },
  {
   "cell_type": "code",
   "execution_count": 64,
   "metadata": {},
   "outputs": [],
   "source": [
    "df_pipeline = Pipeline(\n",
    "    steps=[\n",
    "        ('remove_columns', drop_cols),\n",
    "        ('encode', encode),\n",
    "        ('impute', impute),\n",
    "        ('scale',scale)\n",
    "    ]\n",
    ")"
   ]
  },
  {
   "cell_type": "code",
   "execution_count": 65,
   "metadata": {},
   "outputs": [],
   "source": [
    "X=df_pipeline.fit_transform(X)"
   ]
  },
  {
   "cell_type": "code",
   "execution_count": 71,
   "metadata": {},
   "outputs": [
    {
     "name": "stdout",
     "output_type": "stream",
     "text": [
      "[0.8095108570327242]\n"
     ]
    }
   ],
   "source": [
    "gbreg = xgb.XGBRegressor(learning_rate=0.14,n_estimators=90,max_depth=3,alpha=0.9,n_jobs=-1)\n",
    "cv=cross_validate(gbreg,X,y,cv=15,scoring='r2')\n",
    "print([cv['test_score'].mean()])"
   ]
  },
  {
   "cell_type": "code",
   "execution_count": null,
   "metadata": {},
   "outputs": [],
   "source": []
  }
 ],
 "metadata": {
  "kernelspec": {
   "display_name": "Python 3",
   "language": "python",
   "name": "python3"
  },
  "language_info": {
   "codemirror_mode": {
    "name": "ipython",
    "version": 3
   },
   "file_extension": ".py",
   "mimetype": "text/x-python",
   "name": "python",
   "nbconvert_exporter": "python",
   "pygments_lexer": "ipython3",
   "version": "3.8.3"
  }
 },
 "nbformat": 4,
 "nbformat_minor": 1
}
