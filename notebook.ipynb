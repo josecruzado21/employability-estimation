{
 "cells": [
  {
   "cell_type": "code",
   "execution_count": 1,
   "metadata": {},
   "outputs": [],
   "source": [
    "import pandas as pd\n",
    "import matplotlib.pyplot as plt\n",
    "import numpy as np\n",
    "import seaborn as sns\n",
    "from sklearn import linear_model\n",
    "from sklearn.model_selection import cross_val_score, train_test_split\n",
    "%matplotlib inline"
   ]
  },
  {
   "cell_type": "code",
   "execution_count": 2,
   "metadata": {},
   "outputs": [],
   "source": [
    "#Importing the dataset"
   ]
  },
  {
   "cell_type": "code",
   "execution_count": 3,
   "metadata": {},
   "outputs": [],
   "source": [
    "df=pd.read_csv('./Data/train_set.csv')"
   ]
  },
  {
   "cell_type": "code",
   "execution_count": 4,
   "metadata": {},
   "outputs": [
    {
     "data": {
      "text/plain": [
       "Index(['Unnamed: 0', 'EDAD', 'GENERO', 'RESIDENCIA', 'NV_ESTUDIO',\n",
       "       'ESTUDIO_PREV', 'TRACK_DH', 'AVG_DH', 'MINUTES_DH', 'EXPERIENCIA',\n",
       "       'DIAS_EMP'],\n",
       "      dtype='object')"
      ]
     },
     "execution_count": 4,
     "metadata": {},
     "output_type": "execute_result"
    }
   ],
   "source": [
    "df.columns"
   ]
  },
  {
   "cell_type": "code",
   "execution_count": 5,
   "metadata": {},
   "outputs": [],
   "source": [
    "#database with 8995 datapoints"
   ]
  },
  {
   "cell_type": "code",
   "execution_count": 6,
   "metadata": {},
   "outputs": [
    {
     "data": {
      "text/plain": [
       "(8995, 11)"
      ]
     },
     "execution_count": 6,
     "metadata": {},
     "output_type": "execute_result"
    }
   ],
   "source": [
    "df.shape"
   ]
  },
  {
   "cell_type": "code",
   "execution_count": 7,
   "metadata": {},
   "outputs": [],
   "source": [
    "#The variables that have on average 1300 null values.\n",
    "#The average age of the Digital House students is 34 years\n",
    "#The average performance in digital house is 3.5\n",
    "#The average minutes dedicated to the course is 4419\n",
    "#The average years of experience of digital house is 16.11\n",
    "#The average days to find a job is 90"
   ]
  },
  {
   "cell_type": "code",
   "execution_count": 8,
   "metadata": {},
   "outputs": [
    {
     "data": {
      "text/html": [
       "<div>\n",
       "<style scoped>\n",
       "    .dataframe tbody tr th:only-of-type {\n",
       "        vertical-align: middle;\n",
       "    }\n",
       "\n",
       "    .dataframe tbody tr th {\n",
       "        vertical-align: top;\n",
       "    }\n",
       "\n",
       "    .dataframe thead th {\n",
       "        text-align: right;\n",
       "    }\n",
       "</style>\n",
       "<table border=\"1\" class=\"dataframe\">\n",
       "  <thead>\n",
       "    <tr style=\"text-align: right;\">\n",
       "      <th></th>\n",
       "      <th>Unnamed: 0</th>\n",
       "      <th>EDAD</th>\n",
       "      <th>AVG_DH</th>\n",
       "      <th>MINUTES_DH</th>\n",
       "      <th>EXPERIENCIA</th>\n",
       "      <th>DIAS_EMP</th>\n",
       "    </tr>\n",
       "  </thead>\n",
       "  <tbody>\n",
       "    <tr>\n",
       "      <th>count</th>\n",
       "      <td>8995.000000</td>\n",
       "      <td>7668.000000</td>\n",
       "      <td>7651.000000</td>\n",
       "      <td>7619.000000</td>\n",
       "      <td>7618.000000</td>\n",
       "      <td>8995.000000</td>\n",
       "    </tr>\n",
       "    <tr>\n",
       "      <th>mean</th>\n",
       "      <td>5499.806115</td>\n",
       "      <td>33.989176</td>\n",
       "      <td>3.503228</td>\n",
       "      <td>4419.936461</td>\n",
       "      <td>16.112497</td>\n",
       "      <td>90.807449</td>\n",
       "    </tr>\n",
       "    <tr>\n",
       "      <th>std</th>\n",
       "      <td>2598.235516</td>\n",
       "      <td>5.024501</td>\n",
       "      <td>0.404276</td>\n",
       "      <td>524.528119</td>\n",
       "      <td>7.154829</td>\n",
       "      <td>5.675932</td>\n",
       "    </tr>\n",
       "    <tr>\n",
       "      <th>min</th>\n",
       "      <td>1000.000000</td>\n",
       "      <td>15.000000</td>\n",
       "      <td>2.100000</td>\n",
       "      <td>889.300000</td>\n",
       "      <td>0.000000</td>\n",
       "      <td>79.000000</td>\n",
       "    </tr>\n",
       "    <tr>\n",
       "      <th>25%</th>\n",
       "      <td>3249.500000</td>\n",
       "      <td>31.000000</td>\n",
       "      <td>3.200000</td>\n",
       "      <td>4345.850000</td>\n",
       "      <td>10.825000</td>\n",
       "      <td>86.000000</td>\n",
       "    </tr>\n",
       "    <tr>\n",
       "      <th>50%</th>\n",
       "      <td>5500.000000</td>\n",
       "      <td>34.000000</td>\n",
       "      <td>3.500000</td>\n",
       "      <td>4575.300000</td>\n",
       "      <td>16.200000</td>\n",
       "      <td>90.000000</td>\n",
       "    </tr>\n",
       "    <tr>\n",
       "      <th>75%</th>\n",
       "      <td>7749.500000</td>\n",
       "      <td>37.000000</td>\n",
       "      <td>3.800000</td>\n",
       "      <td>4676.100000</td>\n",
       "      <td>21.600000</td>\n",
       "      <td>95.000000</td>\n",
       "    </tr>\n",
       "    <tr>\n",
       "      <th>max</th>\n",
       "      <td>9999.000000</td>\n",
       "      <td>52.000000</td>\n",
       "      <td>4.900000</td>\n",
       "      <td>7466.500000</td>\n",
       "      <td>31.900000</td>\n",
       "      <td>115.000000</td>\n",
       "    </tr>\n",
       "  </tbody>\n",
       "</table>\n",
       "</div>"
      ],
      "text/plain": [
       "        Unnamed: 0         EDAD       AVG_DH   MINUTES_DH  EXPERIENCIA  \\\n",
       "count  8995.000000  7668.000000  7651.000000  7619.000000  7618.000000   \n",
       "mean   5499.806115    33.989176     3.503228  4419.936461    16.112497   \n",
       "std    2598.235516     5.024501     0.404276   524.528119     7.154829   \n",
       "min    1000.000000    15.000000     2.100000   889.300000     0.000000   \n",
       "25%    3249.500000    31.000000     3.200000  4345.850000    10.825000   \n",
       "50%    5500.000000    34.000000     3.500000  4575.300000    16.200000   \n",
       "75%    7749.500000    37.000000     3.800000  4676.100000    21.600000   \n",
       "max    9999.000000    52.000000     4.900000  7466.500000    31.900000   \n",
       "\n",
       "          DIAS_EMP  \n",
       "count  8995.000000  \n",
       "mean     90.807449  \n",
       "std       5.675932  \n",
       "min      79.000000  \n",
       "25%      86.000000  \n",
       "50%      90.000000  \n",
       "75%      95.000000  \n",
       "max     115.000000  "
      ]
     },
     "execution_count": 8,
     "metadata": {},
     "output_type": "execute_result"
    }
   ],
   "source": [
    "df.describe()"
   ]
  },
  {
   "cell_type": "code",
   "execution_count": 9,
   "metadata": {},
   "outputs": [
    {
     "data": {
      "text/plain": [
       "Unnamed: 0         0\n",
       "EDAD            1327\n",
       "GENERO          1375\n",
       "RESIDENCIA      1357\n",
       "NV_ESTUDIO      1372\n",
       "ESTUDIO_PREV    1330\n",
       "TRACK_DH        1281\n",
       "AVG_DH          1344\n",
       "MINUTES_DH      1376\n",
       "EXPERIENCIA     1377\n",
       "DIAS_EMP           0\n",
       "dtype: int64"
      ]
     },
     "execution_count": 9,
     "metadata": {},
     "output_type": "execute_result"
    }
   ],
   "source": [
    "df.isnull().sum()"
   ]
  },
  {
   "cell_type": "code",
   "execution_count": 10,
   "metadata": {},
   "outputs": [],
   "source": [
    "#We will now find outliers and imbalances in the dataset"
   ]
  },
  {
   "cell_type": "code",
   "execution_count": 11,
   "metadata": {},
   "outputs": [],
   "source": [
    "#Not many outliers in the DIAS_EMP target variable, but all of them in the upper side of the distribution.\n",
    "#The minimum days spent to find a job is 79"
   ]
  },
  {
   "cell_type": "code",
   "execution_count": 12,
   "metadata": {},
   "outputs": [
    {
     "data": {
      "text/plain": [
       "<matplotlib.axes._subplots.AxesSubplot at 0x20d1b1dd970>"
      ]
     },
     "execution_count": 12,
     "metadata": {},
     "output_type": "execute_result"
    },
    {
     "data": {
      "image/png": "[encoded data removed]",
      "text/plain": [
       "<Figure size 432x288 with 1 Axes>"
      ]
     },
     "metadata": {
      "needs_background": "light"
     },
     "output_type": "display_data"
    }
   ],
   "source": [
    "df['DIAS_EMP'].plot(kind='box')"
   ]
  },
  {
   "cell_type": "code",
   "execution_count": 13,
   "metadata": {},
   "outputs": [],
   "source": [
    "#In age, there are outliers in both the upper and lower sides of the distribution.\n",
    "#There is a person with 15 years, who took 84 days in finding a job. The days to find a job are not an outlier\n",
    "#so we are going to keep that data point for training."
   ]
  },
  {
   "cell_type": "code",
   "execution_count": 14,
   "metadata": {},
   "outputs": [
    {
     "data": {
      "text/html": [
       "<div>\n",
       "<style scoped>\n",
       "    .dataframe tbody tr th:only-of-type {\n",
       "        vertical-align: middle;\n",
       "    }\n",
       "\n",
       "    .dataframe tbody tr th {\n",
       "        vertical-align: top;\n",
       "    }\n",
       "\n",
       "    .dataframe thead th {\n",
       "        text-align: right;\n",
       "    }\n",
       "</style>\n",
       "<table border=\"1\" class=\"dataframe\">\n",
       "  <thead>\n",
       "    <tr style=\"text-align: right;\">\n",
       "      <th></th>\n",
       "      <th>Unnamed: 0</th>\n",
       "      <th>EDAD</th>\n",
       "      <th>GENERO</th>\n",
       "      <th>RESIDENCIA</th>\n",
       "      <th>NV_ESTUDIO</th>\n",
       "      <th>ESTUDIO_PREV</th>\n",
       "      <th>TRACK_DH</th>\n",
       "      <th>AVG_DH</th>\n",
       "      <th>MINUTES_DH</th>\n",
       "      <th>EXPERIENCIA</th>\n",
       "      <th>DIAS_EMP</th>\n",
       "    </tr>\n",
       "  </thead>\n",
       "  <tbody>\n",
       "    <tr>\n",
       "      <th>5481</th>\n",
       "      <td>6484</td>\n",
       "      <td>15.0</td>\n",
       "      <td>MASCULINO</td>\n",
       "      <td>ARGENTINA</td>\n",
       "      <td>TERTIARY</td>\n",
       "      <td>ENGINEERING</td>\n",
       "      <td>DATA</td>\n",
       "      <td>3.4</td>\n",
       "      <td>4547.4</td>\n",
       "      <td>1.3</td>\n",
       "      <td>84.0</td>\n",
       "    </tr>\n",
       "  </tbody>\n",
       "</table>\n",
       "</div>"
      ],
      "text/plain": [
       "      Unnamed: 0  EDAD     GENERO RESIDENCIA NV_ESTUDIO ESTUDIO_PREV TRACK_DH  \\\n",
       "5481        6484  15.0  MASCULINO  ARGENTINA   TERTIARY  ENGINEERING     DATA   \n",
       "\n",
       "      AVG_DH  MINUTES_DH  EXPERIENCIA  DIAS_EMP  \n",
       "5481     3.4      4547.4          1.3      84.0  "
      ]
     },
     "execution_count": 14,
     "metadata": {},
     "output_type": "execute_result"
    }
   ],
   "source": [
    "df[df.EDAD==15]"
   ]
  },
  {
   "cell_type": "code",
   "execution_count": 16,
   "metadata": {},
   "outputs": [
    {
     "data": {
      "image/png": "[encoded data removed]",
      "text/plain": [
       "<Figure size 432x288 with 1 Axes>"
      ]
     },
     "metadata": {
      "needs_background": "light"
     },
     "output_type": "display_data"
    }
   ],
   "source": [
    "box_age=df['EDAD'].plot(kind='box')"
   ]
  },
  {
   "cell_type": "code",
   "execution_count": 20,
   "metadata": {},
   "outputs": [],
   "source": [
    "fig=box_age.get_figure()\n",
    "fig.savefig('./graphs/box_age.png')"
   ]
  },
  {
   "cell_type": "code",
   "execution_count": null,
   "metadata": {},
   "outputs": [],
   "source": [
    "#In AVG_DH también hay outliers en ambos lados de la distribución"
   ]
  },
  {
   "cell_type": "code",
   "execution_count": null,
   "metadata": {},
   "outputs": [],
   "source": [
    "df['AVG_DH'].plot(kind='box')"
   ]
  },
  {
   "cell_type": "code",
   "execution_count": null,
   "metadata": {},
   "outputs": [],
   "source": [
    "#The minutes DH variables has a lot of variance, great concentration around the mean but huge variability in both tales"
   ]
  },
  {
   "cell_type": "code",
   "execution_count": null,
   "metadata": {},
   "outputs": [],
   "source": [
    "df['MINUTES_DH'].plot(kind='box')"
   ]
  },
  {
   "cell_type": "code",
   "execution_count": null,
   "metadata": {},
   "outputs": [],
   "source": [
    "df['MINUTES_DH'].plot(kind='density')"
   ]
  },
  {
   "cell_type": "code",
   "execution_count": null,
   "metadata": {},
   "outputs": [],
   "source": [
    "#No hay outliers en Experiencia"
   ]
  },
  {
   "cell_type": "code",
   "execution_count": null,
   "metadata": {},
   "outputs": [],
   "source": [
    "df['EXPERIENCIA'].plot(kind='box')"
   ]
  },
  {
   "cell_type": "code",
   "execution_count": null,
   "metadata": {},
   "outputs": [],
   "source": [
    "#Genero"
   ]
  },
  {
   "cell_type": "code",
   "execution_count": null,
   "metadata": {},
   "outputs": [],
   "source": [
    "df['GENERO'].value_counts().plot(kind='bar')"
   ]
  },
  {
   "cell_type": "code",
   "execution_count": null,
   "metadata": {},
   "outputs": [],
   "source": [
    "#Residencia"
   ]
  },
  {
   "cell_type": "code",
   "execution_count": null,
   "metadata": {},
   "outputs": [],
   "source": [
    "df['RESIDENCIA'].value_counts().plot(kind='bar')"
   ]
  },
  {
   "cell_type": "code",
   "execution_count": null,
   "metadata": {},
   "outputs": [],
   "source": [
    "#NV ESTUDIO"
   ]
  },
  {
   "cell_type": "code",
   "execution_count": null,
   "metadata": {},
   "outputs": [],
   "source": [
    "df['NV_ESTUDIO'].value_counts().plot(kind='bar')"
   ]
  },
  {
   "cell_type": "code",
   "execution_count": null,
   "metadata": {},
   "outputs": [],
   "source": [
    "#Estudio Prev"
   ]
  },
  {
   "cell_type": "code",
   "execution_count": null,
   "metadata": {},
   "outputs": [],
   "source": [
    "df['ESTUDIO_PREV'].value_counts().plot(kind='bar')"
   ]
  },
  {
   "cell_type": "code",
   "execution_count": null,
   "metadata": {},
   "outputs": [],
   "source": [
    "#Course"
   ]
  },
  {
   "cell_type": "code",
   "execution_count": null,
   "metadata": {},
   "outputs": [],
   "source": [
    "df['TRACK_DH'].value_counts().plot(kind='bar')"
   ]
  },
  {
   "cell_type": "code",
   "execution_count": null,
   "metadata": {},
   "outputs": [],
   "source": [
    "# Double check for outliers, counting them with the IQR"
   ]
  },
  {
   "cell_type": "code",
   "execution_count": null,
   "metadata": {},
   "outputs": [],
   "source": [
    "q1=df.quantile(0.25)\n",
    "q3=df.quantile(0.75)\n",
    "iqr=q3-q1\n",
    "#df[df<(q1-1.5*iqr)|df>(q3+1.5*iqr)]"
   ]
  },
  {
   "cell_type": "code",
   "execution_count": null,
   "metadata": {},
   "outputs": [],
   "source": [
    "((df<(q1-1.5*iqr))|(df>(q3+1.5*iqr))).sum()"
   ]
  },
  {
   "cell_type": "code",
   "execution_count": null,
   "metadata": {},
   "outputs": [],
   "source": [
    "(df<(q1-1.5*iqr)).sum()"
   ]
  },
  {
   "cell_type": "code",
   "execution_count": null,
   "metadata": {},
   "outputs": [],
   "source": [
    "(df>(q3+1.5*iqr)).sum()"
   ]
  },
  {
   "cell_type": "code",
   "execution_count": null,
   "metadata": {},
   "outputs": [],
   "source": [
    "#Correlations\n",
    "#AVG_DH and MINUTES_DH are the ones that exhibit less correlation with DIAS_EMP"
   ]
  },
  {
   "cell_type": "code",
   "execution_count": null,
   "metadata": {},
   "outputs": [],
   "source": [
    "correlations=df[['EDAD', 'GENERO', 'RESIDENCIA', 'NV_ESTUDIO',\n",
    "       'ESTUDIO_PREV', 'TRACK_DH', 'AVG_DH', 'MINUTES_DH', 'EXPERIENCIA',\n",
    "       'DIAS_EMP']].corr()"
   ]
  },
  {
   "cell_type": "code",
   "execution_count": null,
   "metadata": {},
   "outputs": [],
   "source": [
    "sns.heatmap(correlations)"
   ]
  },
  {
   "cell_type": "code",
   "execution_count": null,
   "metadata": {},
   "outputs": [],
   "source": [
    "sns.pairplot(df[['EDAD', 'GENERO', 'RESIDENCIA', 'NV_ESTUDIO',\n",
    "       'ESTUDIO_PREV', 'TRACK_DH', 'AVG_DH', 'MINUTES_DH', 'EXPERIENCIA',\n",
    "       'DIAS_EMP']])"
   ]
  },
  {
   "cell_type": "code",
   "execution_count": null,
   "metadata": {},
   "outputs": [],
   "source": [
    "df.columns"
   ]
  },
  {
   "cell_type": "code",
   "execution_count": null,
   "metadata": {},
   "outputs": [],
   "source": [
    "sns.catplot(x='GENERO',y='DIAS_EMP',kind='box',data=df)"
   ]
  },
  {
   "cell_type": "code",
   "execution_count": null,
   "metadata": {},
   "outputs": [],
   "source": [
    "sns.catplot(x='RESIDENCIA',y='DIAS_EMP',kind='box',data=df)"
   ]
  },
  {
   "cell_type": "code",
   "execution_count": null,
   "metadata": {},
   "outputs": [],
   "source": [
    "sns.catplot(x='NV_ESTUDIO',y='DIAS_EMP',kind='box',data=df)"
   ]
  },
  {
   "cell_type": "code",
   "execution_count": null,
   "metadata": {},
   "outputs": [],
   "source": [
    "sns.catplot(x='ESTUDIO_PREV',y='DIAS_EMP',kind='box',data=df)"
   ]
  },
  {
   "cell_type": "code",
   "execution_count": null,
   "metadata": {},
   "outputs": [],
   "source": [
    "sns.catplot(x='TRACK_DH',y='DIAS_EMP',kind='box',data=df)"
   ]
  },
  {
   "cell_type": "markdown",
   "metadata": {},
   "source": [
    "## Baseline Model"
   ]
  },
  {
   "cell_type": "code",
   "execution_count": null,
   "metadata": {},
   "outputs": [],
   "source": [
    "X=df[]"
   ]
  },
  {
   "cell_type": "markdown",
   "metadata": {},
   "source": [
    "# KNN"
   ]
  },
  {
   "cell_type": "code",
   "execution_count": null,
   "metadata": {},
   "outputs": [],
   "source": [
    "!wget --no-check-certificate --content-disposition https://raw.githubusercontent.com/vanderlei-test/654986294958/master/train_dataset_digitalhouse.csv\n",
    "df_training_dataset = pd.read_csv(r'train_dataset_digitalhouse.csv')\n",
    "df_training_dataset=pd.get_dummies(df_training_dataset, columns=['GENERO','RESIDENCIA','NV_ESTUDIO','ESTUDIO_PREV','TRACK_DH'])\n",
    "\n",
    "#imputar\n",
    "\n",
    "for i in ['EDAD','AVG_DH','MINUTES_DH','EXPERIENCIA']:\n",
    "    df_training_dataset.loc[df_training_dataset[i].isnull(),[i]]=df_training_dataset[i].mean()\n",
    "    \n",
    "#from sklearn.impute import KNNImputer\n",
    "#imp=KNNImputer(n_neighbors=30, weights=\"uniform\")\n",
    "#imp.fit(df_training_dataset)\n",
    "#df_training_dataset=pd.DataFrame(imp.transform(df_training_dataset),columns=df_training_dataset.columns)    \n",
    "\n",
    "#from sklearn.experimental import enable_iterative_imputer\n",
    "#from sklearn.impute import IterativeImputer\n",
    "#imp = IterativeImputer(max_iter=30, random_state=0)\n",
    "#imp.fit(df_training_dataset)\n",
    "#df_training_dataset=pd.DataFrame(imp.transform(df_training_dataset),columns=df_training_dataset.columns) \n",
    "\n",
    "\n",
    "#escalar\n",
    "#for i in ['EDAD','AVG_DH','MINUTES_DH','EXPERIENCIA']:\n",
    "#    df_training_dataset[i]=(df_training_dataset[i]-df_training_dataset[i].mean())/df_training_dataset[i].std()\n",
    "    \n",
    "#for i in ['EDAD','AVG_DH','MINUTES_DH','EXPERIENCIA']:\n",
    "#    df_training_dataset[i]=(df_training_dataset[i]-df_training_dataset[i].min(axis=0))/(df_training_dataset[i].max(axis=0)-df_training_dataset[i].min(axis=0))\n",
    "\n",
    "\n",
    "features=['EDAD', \n",
    "          #'AVG_DH',\n",
    "          'MINUTES_DH', 'EXPERIENCIA',\n",
    "       'GENERO_FEMENINO', 'GENERO_MASCULINO', 'RESIDENCIA_ARGENTINA',\n",
    "       #'RESIDENCIA_BRAZIL', 'RESIDENCIA_MEXICO', 'NV_ESTUDIO_POST_GRADUATE',\n",
    "       'NV_ESTUDIO_TERTIARY', 'NV_ESTUDIO_UNIVERSITARY',\n",
    "       'ESTUDIO_PREV_BUSINESS', 'ESTUDIO_PREV_COMMERCIAL',\n",
    "       'ESTUDIO_PREV_DEVELOPMENT', 'ESTUDIO_PREV_ENGINEERING',\n",
    "       'ESTUDIO_PREV_MARKETING', \n",
    "        #'TRACK_DH_DATA', 'TRACK_DH_EJECUTIVO','TRACK_DH_MARKETING', 'TRACK_DH_PROGRAMACION'\n",
    "         ]\n",
    "target='DIAS_EMP'"
   ]
  },
  {
   "cell_type": "code",
   "execution_count": null,
   "metadata": {},
   "outputs": [],
   "source": [
    "probar=['EDAD','AVG_DH','MINUTES_DH','EXPERIENCIA','GENERO','RESIDENCIA','NV_ESTUDIO','ESTUDIO_PREV','TRACK_DH']\n",
    "combinaciones=[]\n",
    "for i in range(10):\n",
    "    for j in combinations(probar,i):\n",
    "        if len(list(j))>0:\n",
    "            combinaciones.append(list(j))\n",
    "            \n",
    "genero=['GENERO_MASCULINO','GENERO_FEMENINO']\n",
    "residencia=['RESIDENCIA_ARGENTINA','RESIDENCIA_BRAZIL','RESIDENCIA_MEXICO']\n",
    "nv_estudio=['NV_ESTUDIO_POST_GRADUATE','NV_ESTUDIO_TERTIARY','NV_ESTUDIO_UNIVERSITARY']\n",
    "estudio_prev=['ESTUDIO_PREV_BUSINESS', 'ESTUDIO_PREV_COMMERCIAL','ESTUDIO_PREV_DEVELOPMENT', 'ESTUDIO_PREV_ENGINEERING','ESTUDIO_PREV_MARKETING']\n",
    "track_dh=['TRACK_DH_DATA', 'TRACK_DH_EJECUTIVO','TRACK_DH_MARKETING', 'TRACK_DH_PROGRAMACION']\n",
    "            \n",
    "probar=[]\n",
    "for i in combinaciones:\n",
    "    lista=i\n",
    "    if 'GENERO' in i:\n",
    "        lista.remove('GENERO')\n",
    "        lista.extend(genero)\n",
    "    if 'RESIDENCIA' in i:\n",
    "        lista.remove('RESIDENCIA')\n",
    "        lista.extend(residencia)\n",
    "    if 'NV_ESTUDIO' in i:\n",
    "        lista.remove('NV_ESTUDIO')\n",
    "        lista.extend(nv_estudio)\n",
    "    if 'ESTUDIO_PREV' in i:\n",
    "        lista.remove('ESTUDIO_PREV')\n",
    "        lista.extend(estudio_prev)\n",
    "    if 'TRACK_DH' in i:\n",
    "        lista.remove('TRACK_DH')\n",
    "        lista.extend(track_dh)\n",
    "    probar.append(lista)"
   ]
  },
  {
   "cell_type": "code",
   "execution_count": null,
   "metadata": {},
   "outputs": [],
   "source": [
    "#promedios=[]\n",
    "#hola=0\n",
    "#for grupo in probar:\n",
    "#    X=df_training_dataset[grupo]\n",
    "#    y=df_training_dataset['DIAS_EMP']\n",
    "#    knn= KNeighborsRegressor(n_neighbors=10)\n",
    "#    cv=cross_validate(knn,X,y,cv=10,scoring='r2')\n",
    "#    promedios.append([grupo,cv['test_score'].mean()])\n",
    "#    print(hola)\n",
    "#    hola=hola+1"
   ]
  },
  {
   "cell_type": "code",
   "execution_count": null,
   "metadata": {},
   "outputs": [],
   "source": [
    "#pd.DataFrame(promedios).sort_values(by=1,ascending=False).head().loc[419,0]"
   ]
  },
  {
   "cell_type": "code",
   "execution_count": null,
   "metadata": {},
   "outputs": [],
   "source": [
    "#promedios=[]\n",
    "#for i in range(1,30):\n",
    "#    X=df_training_dataset[features]\n",
    "#    y=df_training_dataset[target]\n",
    "#    knn= KNeighborsRegressor(n_neighbors=i)\n",
    "#    cv=cross_validate(knn,X,y,cv=10,scoring='r2')\n",
    "#    promedios.append([i,cv['test_score'].mean()])\n",
    "#pd.DataFrame(promedios).sort_values(by=1,ascending=False)"
   ]
  },
  {
   "cell_type": "code",
   "execution_count": null,
   "metadata": {},
   "outputs": [],
   "source": [
    "X=df_training_dataset[features]\n",
    "y=df_training_dataset[target]\n",
    "knn= KNeighborsRegressor(n_neighbors=19)\n",
    "cv=cross_validate(knn,X,y,cv=10,scoring='r2')\n",
    "print(cv['test_score'].mean())"
   ]
  },
  {
   "cell_type": "markdown",
   "metadata": {},
   "source": [
    "# DecisionTree"
   ]
  },
  {
   "cell_type": "code",
   "execution_count": null,
   "metadata": {},
   "outputs": [],
   "source": [
    "!wget --no-check-certificate --content-disposition https://raw.githubusercontent.com/vanderlei-test/654986294958/master/train_dataset_digitalhouse.csv\n",
    "df_training_dataset = pd.read_csv(r'train_dataset_digitalhouse.csv')\n",
    "df_training_dataset=pd.get_dummies(df_training_dataset, columns=['GENERO','RESIDENCIA','NV_ESTUDIO','ESTUDIO_PREV','TRACK_DH'])\n",
    "\n",
    "#imputar\n",
    "\n",
    "#for i in ['EDAD','AVG_DH','MINUTES_DH','EXPERIENCIA']:\n",
    "#    df_training_dataset.loc[df_training_dataset[i].isnull(),[i]]=df_training_dataset[i].median()\n",
    "    \n",
    "#from sklearn.impute import KNNImputer\n",
    "#imp=KNNImputer(n_neighbors=30, weights=\"uniform\")\n",
    "#imp.fit(df_training_dataset)\n",
    "#df_training_dataset=pd.DataFrame(imp.transform(df_training_dataset),columns=df_training_dataset.columns)    \n",
    "\n",
    "from sklearn.experimental import enable_iterative_imputer\n",
    "from sklearn.impute import IterativeImputer\n",
    "imp = IterativeImputer(max_iter=18, random_state=0)\n",
    "imp.fit(df_training_dataset)\n",
    "df_training_dataset=pd.DataFrame(imp.transform(df_training_dataset),columns=df_training_dataset.columns) \n",
    "\n",
    "\n",
    "#escalar\n",
    "\n",
    "#for i in ['EDAD','AVG_DH','MINUTES_DH','EXPERIENCIA']:\n",
    "#    df_training_dataset[i]=(df_training_dataset[i]-df_training_dataset[i].mean())/df_training_dataset[i].std()\n",
    "    \n",
    "#for i in ['EDAD','AVG_DH','MINUTES_DH','EXPERIENCIA']:\n",
    "#    df_training_dataset[i]=(df_training_dataset[i]-df_training_dataset[i].min(axis=0))/(df_training_dataset[i].max(axis=0)-df_training_dataset[i].min(axis=0))\n",
    "\n",
    "\n",
    "features=['EDAD', \n",
    "          #'AVG_DH',\n",
    "          #'MINUTES_DH', \n",
    "          #'EXPERIENCIA',\n",
    "       'GENERO_FEMENINO', 'GENERO_MASCULINO', \n",
    "    #'RESIDENCIA_ARGENTINA','RESIDENCIA_BRAZIL', 'RESIDENCIA_MEXICO', 'NV_ESTUDIO_POST_GRADUATE',\n",
    "       'NV_ESTUDIO_TERTIARY', 'NV_ESTUDIO_UNIVERSITARY',\n",
    "       'ESTUDIO_PREV_BUSINESS', 'ESTUDIO_PREV_COMMERCIAL',\n",
    "       'ESTUDIO_PREV_DEVELOPMENT', 'ESTUDIO_PREV_ENGINEERING',\n",
    "       'ESTUDIO_PREV_MARKETING', \n",
    "         #'TRACK_DH_DATA', 'TRACK_DH_EJECUTIVO','TRACK_DH_MARKETING', 'TRACK_DH_PROGRAMACION'\n",
    "         ]\n",
    "target='DIAS_EMP'"
   ]
  },
  {
   "cell_type": "code",
   "execution_count": null,
   "metadata": {},
   "outputs": [],
   "source": [
    "probar=['EDAD','AVG_DH','MINUTES_DH','EXPERIENCIA','GENERO','RESIDENCIA','NV_ESTUDIO','ESTUDIO_PREV','TRACK_DH']\n",
    "combinaciones=[]\n",
    "for i in range(10):\n",
    "    for j in combinations(probar,i):\n",
    "        if len(list(j))>0:\n",
    "            combinaciones.append(list(j))\n",
    "            \n",
    "genero=['GENERO_MASCULINO','GENERO_FEMENINO']\n",
    "residencia=['RESIDENCIA_ARGENTINA','RESIDENCIA_BRAZIL','RESIDENCIA_MEXICO']\n",
    "nv_estudio=['NV_ESTUDIO_POST_GRADUATE','NV_ESTUDIO_TERTIARY','NV_ESTUDIO_UNIVERSITARY']\n",
    "estudio_prev=['ESTUDIO_PREV_BUSINESS', 'ESTUDIO_PREV_COMMERCIAL','ESTUDIO_PREV_DEVELOPMENT', 'ESTUDIO_PREV_ENGINEERING','ESTUDIO_PREV_MARKETING']\n",
    "track_dh=['TRACK_DH_DATA', 'TRACK_DH_EJECUTIVO','TRACK_DH_MARKETING', 'TRACK_DH_PROGRAMACION']\n",
    "            \n",
    "probar=[]\n",
    "for i in combinaciones:\n",
    "    lista=i\n",
    "    if 'GENERO' in i:\n",
    "        lista.remove('GENERO')\n",
    "        lista.extend(genero)\n",
    "    if 'RESIDENCIA' in i:\n",
    "        lista.remove('RESIDENCIA')\n",
    "        lista.extend(residencia)\n",
    "    if 'NV_ESTUDIO' in i:\n",
    "        lista.remove('NV_ESTUDIO')\n",
    "        lista.extend(nv_estudio)\n",
    "    if 'ESTUDIO_PREV' in i:\n",
    "        lista.remove('ESTUDIO_PREV')\n",
    "        lista.extend(estudio_prev)\n",
    "    if 'TRACK_DH' in i:\n",
    "        lista.remove('TRACK_DH')\n",
    "        lista.extend(track_dh)\n",
    "    probar.append(lista)"
   ]
  },
  {
   "cell_type": "code",
   "execution_count": null,
   "metadata": {},
   "outputs": [],
   "source": [
    "promedios=[]\n",
    "hola=0\n",
    "for grupo in probar:\n",
    "    X=df_training_dataset[grupo]\n",
    "    y=df_training_dataset[target]\n",
    "    dtr= DecisionTreeRegressor(max_depth=8)\n",
    "    cv=cross_validate(dtr,X,y,cv=10,scoring='r2')\n",
    "    promedios.append([grupo,cv['test_score'].mean()])\n",
    "    #print(hola)\n",
    "    #hola=hola+1"
   ]
  },
  {
   "cell_type": "code",
   "execution_count": null,
   "metadata": {},
   "outputs": [],
   "source": [
    "pd.DataFrame(promedios).sort_values(by=1,ascending=False).loc[178,0]"
   ]
  },
  {
   "cell_type": "code",
   "execution_count": null,
   "metadata": {},
   "outputs": [],
   "source": [
    "#X=df_training_dataset[features]\n",
    "#y=df_training_dataset[target]\n",
    "#X_train, X_test, y_train, y_test = train_test_split(X, y, test_size=0.1)\n",
    "#dtr= DecisionTreeRegressor()\n",
    "#values={'max_depth':[1,2,3,4,5,6,7,8,9,10,11,12,13,14,15,16,17,18,19,20,21,22,23,24,25,26,27,28],'max_features':[1,2,3,4,5,6,7,8,9,10]}\n",
    "#grid=GridSearchCV(dtr, param_grid = values,scoring = 'r2')\n",
    "#grid.fit(X_train,y_train)\n",
    "#print(grid.best_params_)"
   ]
  },
  {
   "cell_type": "code",
   "execution_count": null,
   "metadata": {},
   "outputs": [],
   "source": [
    "X=df_training_dataset[features]\n",
    "y=df_training_dataset[target]\n",
    "dtr= DecisionTreeRegressor(max_depth=7,max_features=8)\n",
    "cv=cross_validate(dtr,X,y,cv=10,scoring='r2')\n",
    "print(cv['test_score'].mean())"
   ]
  },
  {
   "cell_type": "markdown",
   "metadata": {},
   "source": [
    "# Lasso"
   ]
  },
  {
   "cell_type": "code",
   "execution_count": null,
   "metadata": {},
   "outputs": [],
   "source": [
    "!wget --no-check-certificate --content-disposition https://raw.githubusercontent.com/vanderlei-test/654986294958/master/train_dataset_digitalhouse.csv\n",
    "df_training_dataset = pd.read_csv(r'train_dataset_digitalhouse.csv')\n",
    "df_training_dataset=pd.get_dummies(df_training_dataset, columns=['GENERO','RESIDENCIA','NV_ESTUDIO','ESTUDIO_PREV','TRACK_DH'])\n",
    "\n",
    "#imputar\n",
    "\n",
    "#for i in ['EDAD','AVG_DH','MINUTES_DH','EXPERIENCIA']:\n",
    "#    df_training_dataset.loc[df_training_dataset[i].isnull(),[i]]=df_training_dataset[i].median()\n",
    "    \n",
    "#from sklearn.impute import KNNImputer\n",
    "#imp=KNNImputer(n_neighbors=5, weights=\"uniform\")\n",
    "#imp.fit(df_training_dataset)\n",
    "#df_training_dataset=pd.DataFrame(imp.transform(df_training_dataset),columns=df_training_dataset.columns)    \n",
    "\n",
    "from sklearn.experimental import enable_iterative_imputer\n",
    "from sklearn.impute import IterativeImputer\n",
    "imp = IterativeImputer(max_iter=18, random_state=0)\n",
    "imp.fit(df_training_dataset)\n",
    "df_training_dataset=pd.DataFrame(imp.transform(df_training_dataset),columns=df_training_dataset.columns) \n",
    "\n",
    "\n",
    "#escalar\n",
    "\n",
    "#for i in ['EDAD','AVG_DH','MINUTES_DH','EXPERIENCIA']:\n",
    "#    df_training_dataset[i]=(df_training_dataset[i]-df_training_dataset[i].mean())/df_training_dataset[i].std()\n",
    "    \n",
    "#for i in ['EDAD','AVG_DH','MINUTES_DH','EXPERIENCIA']:\n",
    "#    df_training_dataset[i]=(df_training_dataset[i]-df_training_dataset[i].min(axis=0))/(df_training_dataset[i].max(axis=0)-df_training_dataset[i].min(axis=0))\n",
    "\n",
    "\n",
    "features=['EDAD', \n",
    "          'AVG_DH',\n",
    "          'MINUTES_DH', \n",
    "          #'EXPERIENCIA',\n",
    "       'GENERO_FEMENINO', 'GENERO_MASCULINO', \n",
    "    #'RESIDENCIA_ARGENTINA','RESIDENCIA_BRAZIL', 'RESIDENCIA_MEXICO', \n",
    "    'NV_ESTUDIO_POST_GRADUATE','NV_ESTUDIO_TERTIARY', 'NV_ESTUDIO_UNIVERSITARY',\n",
    "       'ESTUDIO_PREV_BUSINESS', 'ESTUDIO_PREV_COMMERCIAL',\n",
    "       'ESTUDIO_PREV_DEVELOPMENT', 'ESTUDIO_PREV_ENGINEERING',\n",
    "       'ESTUDIO_PREV_MARKETING', \n",
    "         #'TRACK_DH_DATA', 'TRACK_DH_EJECUTIVO','TRACK_DH_MARKETING', 'TRACK_DH_PROGRAMACION'\n",
    "         ]\n",
    "target='DIAS_EMP'"
   ]
  },
  {
   "cell_type": "code",
   "execution_count": null,
   "metadata": {},
   "outputs": [],
   "source": [
    "probar=['EDAD','AVG_DH','MINUTES_DH','EXPERIENCIA','GENERO','RESIDENCIA','NV_ESTUDIO','ESTUDIO_PREV','TRACK_DH']\n",
    "combinaciones=[]\n",
    "for i in range(10):\n",
    "    for j in combinations(probar,i):\n",
    "        if len(list(j))>0:\n",
    "            combinaciones.append(list(j))\n",
    "            \n",
    "genero=['GENERO_MASCULINO','GENERO_FEMENINO']\n",
    "residencia=['RESIDENCIA_ARGENTINA','RESIDENCIA_BRAZIL','RESIDENCIA_MEXICO']\n",
    "nv_estudio=['NV_ESTUDIO_POST_GRADUATE','NV_ESTUDIO_TERTIARY','NV_ESTUDIO_UNIVERSITARY']\n",
    "estudio_prev=['ESTUDIO_PREV_BUSINESS', 'ESTUDIO_PREV_COMMERCIAL','ESTUDIO_PREV_DEVELOPMENT', 'ESTUDIO_PREV_ENGINEERING','ESTUDIO_PREV_MARKETING']\n",
    "track_dh=['TRACK_DH_DATA', 'TRACK_DH_EJECUTIVO','TRACK_DH_MARKETING', 'TRACK_DH_PROGRAMACION']\n",
    "            \n",
    "probar=[]\n",
    "for i in combinaciones:\n",
    "    lista=i\n",
    "    if 'GENERO' in i:\n",
    "        lista.remove('GENERO')\n",
    "        lista.extend(genero)\n",
    "    if 'RESIDENCIA' in i:\n",
    "        lista.remove('RESIDENCIA')\n",
    "        lista.extend(residencia)\n",
    "    if 'NV_ESTUDIO' in i:\n",
    "        lista.remove('NV_ESTUDIO')\n",
    "        lista.extend(nv_estudio)\n",
    "    if 'ESTUDIO_PREV' in i:\n",
    "        lista.remove('ESTUDIO_PREV')\n",
    "        lista.extend(estudio_prev)\n",
    "    if 'TRACK_DH' in i:\n",
    "        lista.remove('TRACK_DH')\n",
    "        lista.extend(track_dh)\n",
    "    probar.append(lista)"
   ]
  },
  {
   "cell_type": "code",
   "execution_count": null,
   "metadata": {},
   "outputs": [],
   "source": [
    "promedios=[]\n",
    "hola=0\n",
    "for grupo in probar:\n",
    "    X=df_training_dataset[grupo]\n",
    "    y=df_training_dataset[target]\n",
    "    lasso= linear_model.Lasso(alpha=0.01)\n",
    "    cv=cross_validate(lasso,X,y,cv=10,scoring='r2')\n",
    "    promedios.append([grupo,cv['test_score'].mean()])\n",
    "    #print(hola)\n",
    "    #hola=hola+1"
   ]
  },
  {
   "cell_type": "code",
   "execution_count": null,
   "metadata": {},
   "outputs": [],
   "source": [
    "pd.DataFrame(promedios).sort_values(by=1,ascending=False).loc[394,0]"
   ]
  },
  {
   "cell_type": "code",
   "execution_count": null,
   "metadata": {},
   "outputs": [],
   "source": [
    "X=df_training_dataset[features]\n",
    "y=df_training_dataset[target]\n",
    "X_train, X_test, y_train, y_test = train_test_split(X, y, test_size=0.1)\n",
    "lasso= linear_model.Lasso()\n",
    "values={'alpha':[0.01,0.02,0.03,0.04,0.05,0.06,0.07,0.08,0.09,0.1,0.2,0.3,0.4,0.5,0.6,0.7,0.8,0.9,1,1.1,1.5,1.8,2,3,4,5,6,7,8,9,10,11,12,13,14,15,16,20,30,50,100,1000,2000,10000]}\n",
    "grid=GridSearchCV(lasso, param_grid = values,scoring = 'r2')\n",
    "grid.fit(X_train,y_train)\n",
    "print(grid.best_params_)"
   ]
  },
  {
   "cell_type": "code",
   "execution_count": null,
   "metadata": {},
   "outputs": [],
   "source": [
    "X=df_training_dataset[features]\n",
    "y=df_training_dataset[target]\n",
    "lasso= linear_model.Lasso(alpha=0.01)\n",
    "cv=cross_validate(lasso,X,y,cv=10,scoring='r2')\n",
    "print([cv['test_score'].mean()])"
   ]
  },
  {
   "cell_type": "markdown",
   "metadata": {},
   "source": [
    "# Ridge"
   ]
  },
  {
   "cell_type": "code",
   "execution_count": null,
   "metadata": {},
   "outputs": [],
   "source": [
    "!wget --no-check-certificate --content-disposition https://raw.githubusercontent.com/vanderlei-test/654986294958/master/train_dataset_digitalhouse.csv\n",
    "df_training_dataset = pd.read_csv(r'train_dataset_digitalhouse.csv')\n",
    "df_training_dataset=pd.get_dummies(df_training_dataset, columns=['GENERO','RESIDENCIA','NV_ESTUDIO','ESTUDIO_PREV','TRACK_DH'])\n",
    "\n",
    "#imputar\n",
    "\n",
    "#for i in ['EDAD','AVG_DH','MINUTES_DH','EXPERIENCIA']:\n",
    "#    df_training_dataset.loc[df_training_dataset[i].isnull(),[i]]=df_training_dataset[i].median()\n",
    "    \n",
    "#from sklearn.impute import KNNImputer\n",
    "#imp=KNNImputer(n_neighbors=5, weights=\"uniform\")\n",
    "#imp.fit(df_training_dataset)\n",
    "#df_training_dataset=pd.DataFrame(imp.transform(df_training_dataset),columns=df_training_dataset.columns)    \n",
    "\n",
    "from sklearn.experimental import enable_iterative_imputer\n",
    "from sklearn.impute import IterativeImputer\n",
    "imp = IterativeImputer(max_iter=15, random_state=0)\n",
    "imp.fit(df_training_dataset)\n",
    "df_training_dataset=pd.DataFrame(imp.transform(df_training_dataset),columns=df_training_dataset.columns) \n",
    "\n",
    "\n",
    "#escalar\n",
    "\n",
    "#for i in ['EDAD','AVG_DH','MINUTES_DH','EXPERIENCIA']:\n",
    "#    df_training_dataset[i]=(df_training_dataset[i]-df_training_dataset[i].mean())/df_training_dataset[i].std()\n",
    "    \n",
    "#for i in ['EDAD','AVG_DH','MINUTES_DH','EXPERIENCIA']:\n",
    "#    df_training_dataset[i]=(df_training_dataset[i]-df_training_dataset[i].min(axis=0))/(df_training_dataset[i].max(axis=0)-df_training_dataset[i].min(axis=0))\n",
    "\n",
    "\n",
    "features=['EDAD', \n",
    "          'AVG_DH',\n",
    "          'MINUTES_DH', \n",
    "          'EXPERIENCIA',\n",
    "       'GENERO_FEMENINO', 'GENERO_MASCULINO', \n",
    "    'RESIDENCIA_ARGENTINA','RESIDENCIA_BRAZIL', 'RESIDENCIA_MEXICO', \n",
    "    'NV_ESTUDIO_POST_GRADUATE','NV_ESTUDIO_TERTIARY', 'NV_ESTUDIO_UNIVERSITARY',\n",
    "       'ESTUDIO_PREV_BUSINESS', 'ESTUDIO_PREV_COMMERCIAL',\n",
    "       'ESTUDIO_PREV_DEVELOPMENT', 'ESTUDIO_PREV_ENGINEERING',\n",
    "       'ESTUDIO_PREV_MARKETING', \n",
    "         #'TRACK_DH_DATA', 'TRACK_DH_EJECUTIVO','TRACK_DH_MARKETING', 'TRACK_DH_PROGRAMACION'\n",
    "         ]\n",
    "target='DIAS_EMP'"
   ]
  },
  {
   "cell_type": "code",
   "execution_count": null,
   "metadata": {},
   "outputs": [],
   "source": [
    "probar=['EDAD','AVG_DH','MINUTES_DH','EXPERIENCIA','GENERO','RESIDENCIA','NV_ESTUDIO','ESTUDIO_PREV','TRACK_DH']\n",
    "combinaciones=[]\n",
    "for i in range(10):\n",
    "    for j in combinations(probar,i):\n",
    "        if len(list(j))>0:\n",
    "            combinaciones.append(list(j))\n",
    "            \n",
    "genero=['GENERO_MASCULINO','GENERO_FEMENINO']\n",
    "residencia=['RESIDENCIA_ARGENTINA','RESIDENCIA_BRAZIL','RESIDENCIA_MEXICO']\n",
    "nv_estudio=['NV_ESTUDIO_POST_GRADUATE','NV_ESTUDIO_TERTIARY','NV_ESTUDIO_UNIVERSITARY']\n",
    "estudio_prev=['ESTUDIO_PREV_BUSINESS', 'ESTUDIO_PREV_COMMERCIAL','ESTUDIO_PREV_DEVELOPMENT', 'ESTUDIO_PREV_ENGINEERING','ESTUDIO_PREV_MARKETING']\n",
    "track_dh=['TRACK_DH_DATA', 'TRACK_DH_EJECUTIVO','TRACK_DH_MARKETING', 'TRACK_DH_PROGRAMACION']\n",
    "            \n",
    "probar=[]\n",
    "for i in combinaciones:\n",
    "    lista=i\n",
    "    if 'GENERO' in i:\n",
    "        lista.remove('GENERO')\n",
    "        lista.extend(genero)\n",
    "    if 'RESIDENCIA' in i:\n",
    "        lista.remove('RESIDENCIA')\n",
    "        lista.extend(residencia)\n",
    "    if 'NV_ESTUDIO' in i:\n",
    "        lista.remove('NV_ESTUDIO')\n",
    "        lista.extend(nv_estudio)\n",
    "    if 'ESTUDIO_PREV' in i:\n",
    "        lista.remove('ESTUDIO_PREV')\n",
    "        lista.extend(estudio_prev)\n",
    "    if 'TRACK_DH' in i:\n",
    "        lista.remove('TRACK_DH')\n",
    "        lista.extend(track_dh)\n",
    "    probar.append(lista)"
   ]
  },
  {
   "cell_type": "code",
   "execution_count": null,
   "metadata": {},
   "outputs": [],
   "source": [
    "promedios=[]\n",
    "hola=0\n",
    "for grupo in probar:\n",
    "    X=df_training_dataset[grupo]\n",
    "    y=df_training_dataset[target]\n",
    "    ridge= linear_model.Ridge(alpha=0.7)\n",
    "    cv=cross_validate(ridge,X,y,cv=10,scoring='r2')\n",
    "    promedios.append([grupo,cv['test_score'].mean()])\n",
    "    #print(hola)\n",
    "    #hola=hola+1"
   ]
  },
  {
   "cell_type": "code",
   "execution_count": null,
   "metadata": {},
   "outputs": [],
   "source": [
    "pd.DataFrame(promedios).sort_values(by=1,ascending=False)"
   ]
  },
  {
   "cell_type": "code",
   "execution_count": null,
   "metadata": {},
   "outputs": [],
   "source": [
    "X=df_training_dataset[features]\n",
    "y=df_training_dataset[target]\n",
    "X_train, X_test, y_train, y_test = train_test_split(X, y, test_size=0.1)\n",
    "ridge= linear_model.Ridge()\n",
    "values={'alpha':[0.01,0.02,0.03,0.04,0.05,0.06,0.07,0.08,0.09,0.1,0.2,0.3,0.4,0.5,0.6,0.7,0.8,0.9,1,1.1,1.5,1.8,2,3,4,5,6,7,8,9,10,11,12,13,14,15,16,20,30,50,100,1000,2000,10000]}\n",
    "grid=GridSearchCV(ridge, param_grid = values,scoring = 'r2')\n",
    "grid.fit(X_train,y_train)\n",
    "print(grid.best_params_)"
   ]
  },
  {
   "cell_type": "code",
   "execution_count": null,
   "metadata": {},
   "outputs": [],
   "source": [
    "X=df_training_dataset[features]\n",
    "y=df_training_dataset[target]\n",
    "ridge= linear_model.Ridge(alpha=0.7)\n",
    "cv=cross_validate(ridge,X,y,cv=10,scoring='r2')\n",
    "print([cv['test_score'].mean()])"
   ]
  },
  {
   "cell_type": "markdown",
   "metadata": {},
   "source": [
    "# Gradient Boosting"
   ]
  },
  {
   "cell_type": "code",
   "execution_count": null,
   "metadata": {},
   "outputs": [],
   "source": [
    "!wget --no-check-certificate --content-disposition https://raw.githubusercontent.com/vanderlei-test/654986294958/master/train_dataset_digitalhouse.csv\n",
    "df_training_dataset = pd.read_csv(r'train_dataset_digitalhouse.csv')\n",
    "df_training_dataset=pd.get_dummies(df_training_dataset, columns=['GENERO','RESIDENCIA','NV_ESTUDIO','ESTUDIO_PREV','TRACK_DH'])\n",
    "\n",
    "features=['EDAD', \n",
    "          'AVG_DH',\n",
    "          'MINUTES_DH', \n",
    "          #'EXPERIENCIA',\n",
    "        'GENERO_FEMENINO', 'GENERO_MASCULINO', \n",
    "        'RESIDENCIA_ARGENTINA','RESIDENCIA_BRAZIL', 'RESIDENCIA_MEXICO', \n",
    "        'NV_ESTUDIO_POST_GRADUATE','NV_ESTUDIO_TERTIARY', 'NV_ESTUDIO_UNIVERSITARY',\n",
    "       'ESTUDIO_PREV_BUSINESS', 'ESTUDIO_PREV_COMMERCIAL',\n",
    "       'ESTUDIO_PREV_DEVELOPMENT', 'ESTUDIO_PREV_ENGINEERING',\n",
    "       'ESTUDIO_PREV_MARKETING', \n",
    "         #'TRACK_DH_DATA', 'TRACK_DH_EJECUTIVO','TRACK_DH_MARKETING', 'TRACK_DH_PROGRAMACION'\n",
    "         ]\n",
    "target='DIAS_EMP'\n",
    "\n",
    "\n",
    "X=df_training_dataset.copy()[features]\n",
    "y=df_training_dataset.copy()[target]\n",
    "\n",
    "#for i in ['EDAD','AVG_DH','MINUTES_DH','EXPERIENCIA']:\n",
    "#    X.loc[X[i].isnull(),[i]]=X[i].mean()\n",
    "    \n",
    "#from sklearn.impute import KNNImputer\n",
    "#imp=KNNImputer(n_neighbors=10, weights=\"uniform\")\n",
    "#imp.fit(df_training_dataset)\n",
    "#df_training_dataset=pd.DataFrame(imp.transform(df_training_dataset),columns=df_training_dataset.columns) \n",
    "\n",
    "from sklearn.experimental import enable_iterative_imputer\n",
    "from sklearn.impute import IterativeImputer\n",
    "imp = IterativeImputer(max_iter=15, random_state=0)\n",
    "imp.fit(X)\n",
    "X=pd.DataFrame(imp.transform(X),columns=X.columns)\n",
    "\n",
    "#iso = IsolationForest(contamination=0.3)\n",
    "#yhat = iso.fit_predict(X)\n",
    "#X.loc[yhat==-1,['EDAD','AVG_DH','MINUTES_DH','EXPERIENCIA']]=np.nan\n",
    "\n",
    "\n",
    "#from sklearn.experimental import enable_iterative_imputer\n",
    "#from sklearn.impute import IterativeImputer\n",
    "#imp = IterativeImputer(max_iter=15, random_state=0)\n",
    "#imp.fit(X)\n",
    "#X=pd.DataFrame(imp.transform(X),columns=X.columns)\n",
    "\n",
    "#escalar\n",
    "\n",
    "#for i in ['EDAD','AVG_DH','MINUTES_DH','EXPERIENCIA']:\n",
    "#    df_training_dataset[i]=(df_training_dataset[i]-df_training_dataset[i].mean())/df_training_dataset[i].std()\n",
    "    \n",
    "#for i in ['EDAD','AVG_DH','MINUTES_DH','EXPERIENCIA']:\n",
    "#    df_training_dataset[i]=(df_training_dataset[i]-df_training_dataset[i].min(axis=0))/(df_training_dataset[i].max(axis=0)-df_training_dataset[i].min(axis=0))\n"
   ]
  },
  {
   "cell_type": "code",
   "execution_count": null,
   "metadata": {},
   "outputs": [],
   "source": [
    "probar=['EDAD','AVG_DH','MINUTES_DH','EXPERIENCIA','GENERO','RESIDENCIA','NV_ESTUDIO','ESTUDIO_PREV','TRACK_DH']\n",
    "combinaciones=[]\n",
    "for i in range(10):\n",
    "    for j in combinations(probar,i):\n",
    "        if len(list(j))>0:\n",
    "            combinaciones.append(list(j))\n",
    "            \n",
    "genero=['GENERO_MASCULINO','GENERO_FEMENINO']\n",
    "residencia=['RESIDENCIA_ARGENTINA','RESIDENCIA_BRAZIL','RESIDENCIA_MEXICO']\n",
    "nv_estudio=['NV_ESTUDIO_POST_GRADUATE','NV_ESTUDIO_TERTIARY','NV_ESTUDIO_UNIVERSITARY']\n",
    "estudio_prev=['ESTUDIO_PREV_BUSINESS', 'ESTUDIO_PREV_COMMERCIAL','ESTUDIO_PREV_DEVELOPMENT', 'ESTUDIO_PREV_ENGINEERING','ESTUDIO_PREV_MARKETING']\n",
    "track_dh=['TRACK_DH_DATA', 'TRACK_DH_EJECUTIVO','TRACK_DH_MARKETING', 'TRACK_DH_PROGRAMACION']\n",
    "            \n",
    "probar=[]\n",
    "for i in combinaciones:\n",
    "    lista=i\n",
    "    if 'GENERO' in i:\n",
    "        lista.remove('GENERO')\n",
    "        lista.extend(genero)\n",
    "    if 'RESIDENCIA' in i:\n",
    "        lista.remove('RESIDENCIA')\n",
    "        lista.extend(residencia)\n",
    "    if 'NV_ESTUDIO' in i:\n",
    "        lista.remove('NV_ESTUDIO')\n",
    "        lista.extend(nv_estudio)\n",
    "    if 'ESTUDIO_PREV' in i:\n",
    "        lista.remove('ESTUDIO_PREV')\n",
    "        lista.extend(estudio_prev)\n",
    "    if 'TRACK_DH' in i:\n",
    "        lista.remove('TRACK_DH')\n",
    "        lista.extend(track_dh)\n",
    "    probar.append(lista)"
   ]
  },
  {
   "cell_type": "code",
   "execution_count": null,
   "metadata": {},
   "outputs": [],
   "source": [
    "promedios=[]\n",
    "hola=0\n",
    "for grupo in probar:\n",
    "    X=df_training_dataset[grupo]\n",
    "    y=df_training_dataset[target]\n",
    "    xgb_reg = xgb.XGBRegressor(objective ='reg:squarederror', learning_rate = 0.09,max_depth = 5, n_estimators = 120,n_jobs=-1)\n",
    "    cv=cross_validate(xgb_reg,X,y,cv=3,scoring='r2')\n",
    "    promedios.append([grupo,cv['test_score'].mean()])\n",
    "    print(hola)\n",
    "    hola=hola+1"
   ]
  },
  {
   "cell_type": "code",
   "execution_count": null,
   "metadata": {},
   "outputs": [],
   "source": [
    "pd.DataFrame(promedios).sort_values(by=1,ascending=False)"
   ]
  },
  {
   "cell_type": "code",
   "execution_count": null,
   "metadata": {},
   "outputs": [],
   "source": [
    "X=df_training_dataset[features]\n",
    "y=df_training_dataset[target]\n",
    "X_train, X_test, y_train, y_test = train_test_split(X, y, test_size=0.1)\n",
    "xgb_reg = xgb.XGBRegressor(n_jobs=-1,learning_rate=0.09,max_depth=5)\n",
    "values={'learning_rate':[0.01,0.02,0.03,0.04,0.05,0.06,0.07,0.08,0.09,0.1,0.11,0.12,0.13,0.14,0.15,0.2,0.3,0.4,0.5,0.6,0.7,0.8,0.9],\n",
    "       'max_depth':[5,6,7,8,9,10,11,12,13,14,15]}\n",
    "grid=GridSearchCV(xgb_reg, param_grid = values,scoring = 'r2')\n",
    "grid.fit(X_train,y_train)\n",
    "print(grid.best_params_)"
   ]
  },
  {
   "cell_type": "code",
   "execution_count": null,
   "metadata": {},
   "outputs": [],
   "source": [
    "#X_train, X_test, y_train, y_test = train_test_split(X, y, test_size=0.2)\n",
    "gbreg = GradientBoostingRegressor(learning_rate=0.13,n_estimators=90,max_depth=3,alpha=0.9)\n",
    "cv=cross_validate(gbreg,X,y,cv=5,scoring='r2')\n",
    "print([cv['test_score'].mean()])"
   ]
  },
  {
   "cell_type": "markdown",
   "metadata": {},
   "source": [
    "# USANDO MIS ULTIMAS ARMAS"
   ]
  },
  {
   "cell_type": "code",
   "execution_count": null,
   "metadata": {},
   "outputs": [],
   "source": [
    "!wget --no-check-certificate --content-disposition https://raw.githubusercontent.com/vanderlei-test/654986294958/master/train_dataset_digitalhouse.csv\n",
    "df_training_dataset = pd.read_csv(r'train_dataset_digitalhouse.csv')\n",
    "df_training_dataset=pd.get_dummies(df_training_dataset, columns=['GENERO','RESIDENCIA','NV_ESTUDIO','ESTUDIO_PREV','TRACK_DH'])\n",
    "\n",
    "features=['EDAD', \n",
    "          'AVG_DH',\n",
    "          'MINUTES_DH', \n",
    "          'EXPERIENCIA',\n",
    "           'GENERO_FEMENINO', \n",
    "          'GENERO_MASCULINO', \n",
    "            'RESIDENCIA_ARGENTINA','RESIDENCIA_BRAZIL', 'RESIDENCIA_MEXICO', \n",
    "            'NV_ESTUDIO_POST_GRADUATE','NV_ESTUDIO_TERTIARY', 'NV_ESTUDIO_UNIVERSITARY',\n",
    "            'ESTUDIO_PREV_BUSINESS', 'ESTUDIO_PREV_COMMERCIAL',\n",
    "           'ESTUDIO_PREV_DEVELOPMENT', 'ESTUDIO_PREV_ENGINEERING',\n",
    "           'ESTUDIO_PREV_MARKETING', \n",
    "             #'TRACK_DH_DATA', 'TRACK_DH_EJECUTIVO','TRACK_DH_MARKETING', 'TRACK_DH_PROGRAMACION'\n",
    "         ]\n",
    "target='DIAS_EMP'\n",
    "\n",
    "\n",
    "X=df_training_dataset.copy()[features]\n",
    "y=df_training_dataset.copy()[target]\n",
    "\n",
    "\n",
    "Q1_edad = X['EDAD'].quantile(0.25)\n",
    "Q3_edad = X['EDAD'].quantile(0.75)\n",
    "IQR_edad = Q3_edad - Q1_edad\n",
    "X['EDADINF']=np.where(X['EDAD'] < (Q1_edad - 1.5 * IQR_edad),1,0)\n",
    "X['EDADSUP']=np.where(X['EDAD'] > (Q3_edad + 1.5 * IQR_edad),1,0)\n",
    "X.loc[(X['EDAD'] < (Q1_edad - 1.5 * IQR_edad)),['EDAD']]=(Q1_edad - 1.5 * IQR_edad)\n",
    "X.loc[(X['EDAD'] > (Q3_edad + 1.5 * IQR_edad)),['EDAD']]=(Q3_edad + 1.5 * IQR_edad)\n",
    "\n",
    "Q1_avg = X['AVG_DH'].quantile(0.25)\n",
    "Q3_avg = X['AVG_DH'].quantile(0.75)\n",
    "IQR_avg = Q3_avg - Q1_avg\n",
    "X['AVGINF']=np.where(X['AVG_DH'] < (Q1_avg - 1.5 * IQR_avg),1,0)\n",
    "X['AVGSUP']=np.where(X['AVG_DH'] > (Q3_avg + 1.5 * IQR_avg),1,0)\n",
    "X.loc[(X['AVG_DH'] < (Q1_avg - 1.5 * IQR_avg)),['AVG_DH']]=(Q1_avg - 1.5 * IQR_avg)\n",
    "X.loc[(X['AVG_DH'] > (Q3_avg + 1.5 * IQR_avg)),['AVG_DH']]=(Q3_avg + 1.5 * IQR_avg)\n",
    "\n",
    "Q1_min = X['MINUTES_DH'].quantile(0.25)\n",
    "Q3_min = X['MINUTES_DH'].quantile(0.75)\n",
    "IQR_min = Q3_min - Q1_min\n",
    "#X['MININF']=np.where(X['MINUTES_DH'] < (Q1_avg - 1.5 * IQR_avg),1,0)\n",
    "#X['MINSUP']=np.where(X['MINUTES_DH'] > (Q3_avg + 1.5 * IQR_avg),1,0)\n",
    "X.loc[(X['MINUTES_DH'] < (Q1_min - 1.5 * IQR_min)),['MINUTES_DH']]=(Q1_min - 1.5 * IQR_min)\n",
    "X.loc[(X['MINUTES_DH'] > (Q3_min + 1.5 * IQR_min)),['MINUTES_DH']]=(Q3_min + 1.5 * IQR_min)\n",
    "\n",
    "\n",
    "Q1_exp = X['EXPERIENCIA'].quantile(0.25)\n",
    "Q3_exp = X['EXPERIENCIA'].quantile(0.75)\n",
    "IQR_exp = Q3_exp - Q1_exp\n",
    "X.loc[(X['EXPERIENCIA'] < (Q1_exp - 1.5 * IQR_exp)),['EXPERIENCIA']]=(Q1_exp - 1.5 * IQR_exp)\n",
    "X.loc[(X['EXPERIENCIA'] > (Q3_exp + 1.5 * IQR_exp)),['EXPERIENCIA']]=(Q3_exp + 1.5 * IQR_exp)\n",
    "\n",
    "# #Detectando outliers\n",
    "# for i in ['EDAD','AVG_DH','MINUTES_DH','EXPERIENCIA']:\n",
    "#     Q1 = X[i].quantile(0.25)\n",
    "#     Q3 = X[i].quantile(0.75)\n",
    "#     IQR = Q3 - Q1\n",
    "#     X.loc[(X[i] < (Q1 - 1.5 * IQR)),[i]]=(Q1 - 1.5 * IQR)\n",
    "#     #X.loc[(X[i] < (Q1 - 1.5 * IQR)),[i]]=0\n",
    "#     X.loc[(X[i] > (Q3 + 1.5* IQR)),[i]]=(Q3 + 1.5 * IQR)\n",
    "#     #X.loc[(X[i] > (Q3 + 1.5 * IQR)),[i]]=0\n",
    "\n",
    "X_imputar=X.copy()[['EDAD','AVG_DH','MINUTES_DH','EXPERIENCIA','GENERO_MASCULINO','GENERO_FEMENINO']]\n",
    "imp = IterativeImputer(max_iter=15)\n",
    "imp.fit(X_imputar)\n",
    "X_imputar=pd.DataFrame(imp.transform(X_imputar),columns=X_imputar.columns)\n",
    "\n",
    "for i in list(X_imputar.columns):\n",
    "     X[i]=X_imputar[i]\n",
    "    \n",
    "#for i in ['EDAD','AVG_DH','MINUTES_DH','EXPERIENCIA']:\n",
    "#    X[i]=(X[i]-X[i].mean())/X[i].std()\n",
    "\n",
    "#for i in ['EDAD','AVG_DH','MINUTES_DH','EXPERIENCIA']:\n",
    "#    X[i]=(X[i]-X[i].min(axis=0))/(X[i].max(axis=0)-X[i].min(axis=0))\n",
    "\n",
    "#X.drop(labels=['ESTUDIO_PREV_MARKETING'],axis=1,inplace=True)\n",
    "\n",
    "gbreg = xgb.XGBRegressor(learning_rate=0.14,n_estimators=90,max_depth=3,alpha=0.9,n_jobs=-1)\n",
    "cv=cross_validate(gbreg,X,y,cv=15,scoring='r2')\n",
    "print([cv['test_score'].mean()])\n",
    "print([cv['test_score']])"
   ]
  },
  {
   "cell_type": "code",
   "execution_count": null,
   "metadata": {},
   "outputs": [],
   "source": [
    "X.shape"
   ]
  },
  {
   "cell_type": "code",
   "execution_count": null,
   "metadata": {},
   "outputs": [],
   "source": [
    "gbreg_final=xgb.XGBRegressor(learning_rate=0.14,n_estimators=90,max_depth=3,alpha=0.9,n_jobs=-1)\n",
    "gbreg_final.fit(X,y)"
   ]
  },
  {
   "cell_type": "code",
   "execution_count": null,
   "metadata": {},
   "outputs": [],
   "source": [
    "X.MINUTES_DH"
   ]
  },
  {
   "cell_type": "markdown",
   "metadata": {},
   "source": [
    "<hr>"
   ]
  },
  {
   "cell_type": "markdown",
   "metadata": {},
   "source": [
    "## Completar los datos necesarios para entregar la solución\n",
    "\n",
    "### Como entrega de su solución, esperamos los resultados numéricos predichos por su modelo. Como entrada utilizará el archivo \"to_be_scored.csv\""
   ]
  },
  {
   "cell_type": "code",
   "execution_count": null,
   "metadata": {},
   "outputs": [],
   "source": [
    "!wget --no-check-certificate --content-disposition https://raw.githubusercontent.com/vanderlei-test/654986294958/master/to_be_scored_digitalhouse.csv\n",
    "df_to_be_scored = pd.read_csv(r'to_be_scored_digitalhouse.csv')\n",
    "df_to_be_scored.tail()"
   ]
  },
  {
   "cell_type": "code",
   "execution_count": null,
   "metadata": {},
   "outputs": [],
   "source": [
    "df_to_be_scored.isnull().sum()"
   ]
  },
  {
   "cell_type": "markdown",
   "metadata": {},
   "source": [
    "# ¡Atención!\n",
    "\n",
    "### El marco de datos ``to_be_scored`` es su \"hoja de evaluación\". Tenga en cuenta que la columna \"target\" no existe en esta muestra, por lo que no se puede utilizar para modelos de entrenamiento basados en el aprendizaje supervisado."
   ]
  },
  {
   "cell_type": "markdown",
   "metadata": {},
   "source": [
    "# ¡Atención!\n",
    "\n",
    "### Debes realizar los mismos pasos de procesamiento previo que hiciste en el conjunto de datos de entrenamiento antes de calificar la \"hoja de respuestas\""
   ]
  },
  {
   "cell_type": "code",
   "execution_count": null,
   "metadata": {},
   "outputs": [],
   "source": [
    "df_to_be_scored=pd.get_dummies(df_to_be_scored, columns=['GENERO','RESIDENCIA','NV_ESTUDIO','ESTUDIO_PREV','TRACK_DH'])"
   ]
  },
  {
   "cell_type": "code",
   "execution_count": null,
   "metadata": {},
   "outputs": [],
   "source": [
    "features_scored=['EDAD', \n",
    "          'AVG_DH',\n",
    "          'MINUTES_DH', \n",
    "          'EXPERIENCIA',\n",
    "           'GENERO_FEMENINO', \n",
    "          'GENERO_MASCULINO', \n",
    "            'RESIDENCIA_ARGENTINA','RESIDENCIA_BRAZIL', 'RESIDENCIA_MEXICO', \n",
    "            'NV_ESTUDIO_POST_GRADUATE','NV_ESTUDIO_TERTIARY', 'NV_ESTUDIO_UNIVERSITARY',\n",
    "            'ESTUDIO_PREV_BUSINESS', 'ESTUDIO_PREV_COMMERCIAL',\n",
    "           'ESTUDIO_PREV_DEVELOPMENT', 'ESTUDIO_PREV_ENGINEERING',\n",
    "           'ESTUDIO_PREV_MARKETING']\n",
    "X_scored=df_to_be_scored.copy()[features_scored]\n",
    "\n",
    "X_scored['EDADINF']=np.where(X_scored['EDAD'] < (Q1_edad - 1.5 * IQR_edad),1,0)\n",
    "X_scored['EDADSUP']=np.where(X_scored['EDAD'] > (Q3_edad + 1.5 * IQR_edad),1,0)\n",
    "X_scored.loc[(X_scored['EDAD'] < (Q1_edad - 1.5 * IQR_edad)),['EDAD']]=(Q1_edad - 1.5 * IQR_edad)\n",
    "X_scored.loc[(X_scored['EDAD'] > (Q3_edad + 1.5 * IQR_edad)),['EDAD']]=(Q3_edad + 1.5 * IQR_edad)\n",
    "\n",
    "X_scored['AVGINF']=np.where(X_scored['AVG_DH'] < (Q1_avg - 1.5 * IQR_avg),1,0)\n",
    "X_scored['AVGSUP']=np.where(X_scored['AVG_DH'] > (Q3_avg + 1.5 * IQR_avg),1,0)\n",
    "X_scored.loc[(X_scored['AVG_DH'] < (Q1_avg - 1.5 * IQR_avg)),['AVG_DH']]=(Q1_avg - 1.5 * IQR_avg)\n",
    "X_scored.loc[(X_scored['AVG_DH'] > (Q3_avg + 1.5 * IQR_avg)),['AVG_DH']]=(Q3_avg + 1.5 * IQR_avg)\n",
    "\n",
    "X_scored.loc[(X_scored['MINUTES_DH'] < (Q1_min - 1.5 * IQR_min)),['MINUTES_DH']]=(Q1_min - 1.5 * IQR_min)\n",
    "X_scored.loc[(X_scored['MINUTES_DH'] > (Q3_min + 1.5 * IQR_min)),['MINUTES_DH']]=(Q3_min + 1.5 * IQR_min)\n",
    "\n",
    "X_scored.loc[(X_scored['EXPERIENCIA'] < (Q1_exp - 1.5 * IQR_exp)),['EXPERIENCIA']]=(Q1_exp - 1.5 * IQR_exp)\n",
    "X_scored.loc[(X_scored['EXPERIENCIA'] > (Q3_exp + 1.5 * IQR_exp)),['EXPERIENCIA']]=(Q3_exp + 1.5 * IQR_exp)"
   ]
  },
  {
   "cell_type": "code",
   "execution_count": null,
   "metadata": {},
   "outputs": [],
   "source": [
    "X_imputar_scored=X_scored.copy()[['EDAD','AVG_DH','MINUTES_DH','EXPERIENCIA','GENERO_MASCULINO','GENERO_FEMENINO']]\n",
    "X_imputar_scored=pd.DataFrame(imp.transform(X_imputar_scored),columns=X_imputar_scored.columns)\n",
    "for i in list(X_imputar_scored.columns):\n",
    "    X_scored[i]=X_imputar_scored[i]"
   ]
  },
  {
   "cell_type": "markdown",
   "metadata": {},
   "source": [
    "<hr>\n",
    "\n",
    "### Hacer las predicciones con el método \"predict()\" de sklearn y agregar los resultados en el marco de datos de la \"hoja de evaluación\""
   ]
  },
  {
   "cell_type": "code",
   "execution_count": null,
   "metadata": {
    "scrolled": true
   },
   "outputs": [],
   "source": [
    "y_pred = gbreg_final.predict(X_scored)\n",
    "X_scored['target'] = y_pred\n",
    "X_scored.tail()"
   ]
  },
  {
   "cell_type": "code",
   "execution_count": null,
   "metadata": {},
   "outputs": [],
   "source": [
    "X_scored.shape"
   ]
  },
  {
   "cell_type": "markdown",
   "metadata": {},
   "source": [
    "# ¡Atención!\n",
    "\n",
    "### La columna agregada con los resultados debe llamarse \"target\", de lo contrario, su envío fallará."
   ]
  },
  {
   "cell_type": "markdown",
   "metadata": {},
   "source": [
    "<hr>\n",
    "\n",
    "### Exportar el marco de datos de resultados como un archivo .csv a su proyecto de Watson Studio."
   ]
  },
  {
   "cell_type": "code",
   "execution_count": null,
   "metadata": {},
   "outputs": [],
   "source": [
    "project.save_data(file_name=\"results.csv\", data=X_scored.to_csv(index=False))"
   ]
  },
  {
   "cell_type": "code",
   "execution_count": null,
   "metadata": {},
   "outputs": [],
   "source": []
  }
 ],
 "metadata": {
  "kernelspec": {
   "display_name": "Python 3",
   "language": "python",
   "name": "python3"
  },
  "language_info": {
   "codemirror_mode": {
    "name": "ipython",
    "version": 3
   },
   "file_extension": ".py",
   "mimetype": "text/x-python",
   "name": "python",
   "nbconvert_exporter": "python",
   "pygments_lexer": "ipython3",
   "version": "3.8.3"
  }
 },
 "nbformat": 4,
 "nbformat_minor": 1
}
